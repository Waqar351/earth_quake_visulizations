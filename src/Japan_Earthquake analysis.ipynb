{
 "cells": [
  {
   "cell_type": "code",
   "execution_count": 1,
   "metadata": {
    "executionInfo": {
     "elapsed": 878,
     "status": "ok",
     "timestamp": 1749067826222,
     "user": {
      "displayName": "Waqar Hassan",
      "userId": "03281038857401447037"
     },
     "user_tz": 180
    },
    "id": "-zKJxAphl0KE"
   },
   "outputs": [],
   "source": [
    "import urllib.parse\n",
    "\n",
    "import geopandas as gpd\n",
    "import pandas as pd"
   ]
  },
  {
   "cell_type": "code",
   "execution_count": null,
   "metadata": {
    "executionInfo": {
     "elapsed": 9,
     "status": "ok",
     "timestamp": 1749068424839,
     "user": {
      "displayName": "Waqar Hassan",
      "userId": "03281038857401447037"
     },
     "user_tz": 180
    },
    "id": "pP68lGzKl8F3"
   },
   "outputs": [],
   "source": [
    "output_path = \"Japan_earthquake_analysis\""
   ]
  },
  {
   "cell_type": "code",
   "execution_count": 3,
   "metadata": {
    "executionInfo": {
     "elapsed": 3,
     "status": "ok",
     "timestamp": 1749068590980,
     "user": {
      "displayName": "Waqar Hassan",
      "userId": "03281038857401447037"
     },
     "user_tz": 180
    },
    "id": "cy3FgGkUmJMG"
   },
   "outputs": [],
   "source": [
    "CATALOG_URL = \"https://earthquake.usgs.gov/fdsnws/event/1/query.geojson\"\n",
    "\n",
    "maxlatitude= 46.0\n",
    "minlatitude=30.0\n",
    "maxlongitude = 146.0\n",
    "minlongitude = 129.0\n",
    "minmagnitude = 4.5\n",
    "\n",
    "params_japan = {\n",
    "    \"format\": \"geojson\",\n",
    "    \"starttime\": \"2024-01-01\",\n",
    "    \"endtime\": \"2024-12-31\",\n",
    "    \"minlatitude\": 30.0,\n",
    "    \"maxlatitude\": 46.0,\n",
    "    \"minlongitude\": 129.0,\n",
    "    \"maxlongitude\": 146.0,\n",
    "    \"minmagnitude\": 4.5,\n",
    "}\n",
    "\n",
    "params = {\n",
    "    \"starttime\": \"2024-01-01\",\n",
    "    \"endtime\": \"2024-12-31\",\n",
    "    \"maxlatitude\": 46.0,\n",
    "    \"minlatitude\": 30.0,\n",
    "    \"maxlongitude\": 146.0,\n",
    "    \"minlongitude\": 129.0,\n",
    "    \"minmagnitude\": 4.5,\n",
    "    \"eventtype\": \"earthquake\",\n",
    "    \"orderby\": \"time\",\n",
    "}\n",
    "columns = [\"mag\", \"time\", \"geometry\"]"
   ]
  },
  {
   "cell_type": "code",
   "execution_count": 4,
   "metadata": {
    "executionInfo": {
     "elapsed": 943,
     "status": "ok",
     "timestamp": 1749068593411,
     "user": {
      "displayName": "Waqar Hassan",
      "userId": "03281038857401447037"
     },
     "user_tz": 180
    },
    "id": "ZdymAB_5mJIj"
   },
   "outputs": [],
   "source": [
    "url = f\"{CATALOG_URL}?{urllib.parse.urlencode(params)}\"\n",
    "quakes = gpd.read_file(url, columns=columns)"
   ]
  },
  {
   "cell_type": "code",
   "execution_count": 5,
   "metadata": {
    "executionInfo": {
     "elapsed": 293,
     "status": "ok",
     "timestamp": 1749068593706,
     "user": {
      "displayName": "Waqar Hassan",
      "userId": "03281038857401447037"
     },
     "user_tz": 180
    },
    "id": "rg0RwW3cmJEl"
   },
   "outputs": [],
   "source": [
    "# get the national boundary of Japan\n",
    "boundary_url = \"https://media.githubusercontent.com/media/wmgeolab/geoBoundaries/refs/heads/main/releaseData/gbOpen/JPN/ADM0/geoBoundaries-JPN-ADM0.geojson\"\n",
    "japan = gpd.read_file(boundary_url)"
   ]
  },
  {
   "cell_type": "code",
   "execution_count": 6,
   "metadata": {
    "executionInfo": {
     "elapsed": 55,
     "status": "ok",
     "timestamp": 1749068593769,
     "user": {
      "displayName": "Waqar Hassan",
      "userId": "03281038857401447037"
     },
     "user_tz": 180
    },
    "id": "k6KSSDUbmI8o"
   },
   "outputs": [],
   "source": [
    "# ensure both dataframes are in the same CRS\n",
    "quakes = quakes.to_crs(japan.crs)\n",
    "\n",
    "# filter earthquakes to those within Japan's boundaries\n",
    "quakes = quakes[quakes.within(japan.iloc[0]['geometry'])]"
   ]
  },
  {
   "cell_type": "code",
   "execution_count": 7,
   "metadata": {
    "colab": {
     "base_uri": "https://localhost:8080/",
     "height": 423
    },
    "executionInfo": {
     "elapsed": 16,
     "status": "ok",
     "timestamp": 1749068594675,
     "user": {
      "displayName": "Waqar Hassan",
      "userId": "03281038857401447037"
     },
     "user_tz": 180
    },
    "id": "nljSKIV0l1iW",
    "outputId": "c0f54721-2776-47d2-a2a8-b41629f23f13"
   },
   "outputs": [
    {
     "data": {
      "text/html": [
       "<div>\n",
       "<style scoped>\n",
       "    .dataframe tbody tr th:only-of-type {\n",
       "        vertical-align: middle;\n",
       "    }\n",
       "\n",
       "    .dataframe tbody tr th {\n",
       "        vertical-align: top;\n",
       "    }\n",
       "\n",
       "    .dataframe thead th {\n",
       "        text-align: right;\n",
       "    }\n",
       "</style>\n",
       "<table border=\"1\" class=\"dataframe\">\n",
       "  <thead>\n",
       "    <tr style=\"text-align: right;\">\n",
       "      <th></th>\n",
       "      <th>mag</th>\n",
       "      <th>time</th>\n",
       "      <th>geometry</th>\n",
       "    </tr>\n",
       "  </thead>\n",
       "  <tbody>\n",
       "    <tr>\n",
       "      <th>7</th>\n",
       "      <td>4.6</td>\n",
       "      <td>1734854151387</td>\n",
       "      <td>POINT Z (130.6312 31.845 170.684)</td>\n",
       "    </tr>\n",
       "    <tr>\n",
       "      <th>9</th>\n",
       "      <td>4.5</td>\n",
       "      <td>1734441078418</td>\n",
       "      <td>POINT Z (139.9292 36.2615 76.086)</td>\n",
       "    </tr>\n",
       "    <tr>\n",
       "      <th>17</th>\n",
       "      <td>4.5</td>\n",
       "      <td>1733611184842</td>\n",
       "      <td>POINT Z (140.108 35.5123 74.306)</td>\n",
       "    </tr>\n",
       "    <tr>\n",
       "      <th>19</th>\n",
       "      <td>4.8</td>\n",
       "      <td>1733462760960</td>\n",
       "      <td>POINT Z (131.3993 31.8623 63.021)</td>\n",
       "    </tr>\n",
       "    <tr>\n",
       "      <th>41</th>\n",
       "      <td>4.7</td>\n",
       "      <td>1731693531265</td>\n",
       "      <td>POINT Z (140.7467 35.8011 50.526)</td>\n",
       "    </tr>\n",
       "    <tr>\n",
       "      <th>...</th>\n",
       "      <td>...</td>\n",
       "      <td>...</td>\n",
       "      <td>...</td>\n",
       "    </tr>\n",
       "    <tr>\n",
       "      <th>312</th>\n",
       "      <td>4.6</td>\n",
       "      <td>1704094095144</td>\n",
       "      <td>POINT Z (136.8046 37.3496 10)</td>\n",
       "    </tr>\n",
       "    <tr>\n",
       "      <th>313</th>\n",
       "      <td>4.6</td>\n",
       "      <td>1704094048747</td>\n",
       "      <td>POINT Z (137.2254 37.3802 10)</td>\n",
       "    </tr>\n",
       "    <tr>\n",
       "      <th>314</th>\n",
       "      <td>6.2</td>\n",
       "      <td>1704093521584</td>\n",
       "      <td>POINT Z (136.8272 37.1895 10)</td>\n",
       "    </tr>\n",
       "    <tr>\n",
       "      <th>315</th>\n",
       "      <td>7.5</td>\n",
       "      <td>1704093009476</td>\n",
       "      <td>POINT Z (137.271 37.4874 10)</td>\n",
       "    </tr>\n",
       "    <tr>\n",
       "      <th>316</th>\n",
       "      <td>5.8</td>\n",
       "      <td>1704092765477</td>\n",
       "      <td>POINT Z (137.2491 37.4933 10)</td>\n",
       "    </tr>\n",
       "  </tbody>\n",
       "</table>\n",
       "<p>78 rows × 3 columns</p>\n",
       "</div>"
      ],
      "text/plain": [
       "     mag           time                           geometry\n",
       "7    4.6  1734854151387  POINT Z (130.6312 31.845 170.684)\n",
       "9    4.5  1734441078418  POINT Z (139.9292 36.2615 76.086)\n",
       "17   4.5  1733611184842   POINT Z (140.108 35.5123 74.306)\n",
       "19   4.8  1733462760960  POINT Z (131.3993 31.8623 63.021)\n",
       "41   4.7  1731693531265  POINT Z (140.7467 35.8011 50.526)\n",
       "..   ...            ...                                ...\n",
       "312  4.6  1704094095144      POINT Z (136.8046 37.3496 10)\n",
       "313  4.6  1704094048747      POINT Z (137.2254 37.3802 10)\n",
       "314  6.2  1704093521584      POINT Z (136.8272 37.1895 10)\n",
       "315  7.5  1704093009476       POINT Z (137.271 37.4874 10)\n",
       "316  5.8  1704092765477      POINT Z (137.2491 37.4933 10)\n",
       "\n",
       "[78 rows x 3 columns]"
      ]
     },
     "execution_count": 7,
     "metadata": {},
     "output_type": "execute_result"
    }
   ],
   "source": [
    "quakes"
   ]
  },
  {
   "cell_type": "code",
   "execution_count": 8,
   "metadata": {
    "executionInfo": {
     "elapsed": 38,
     "status": "ok",
     "timestamp": 1749068595556,
     "user": {
      "displayName": "Waqar Hassan",
      "userId": "03281038857401447037"
     },
     "user_tz": 180
    },
    "id": "nDEIPHGDniPq"
   },
   "outputs": [],
   "source": [
    "quakes[\"time\"] = pd.to_datetime(quakes[\"time\"], unit=\"ms\").dt.tz_localize(\n",
    "    tz=\"UTC\"  # First localize to UTC if not already timezone-aware\n",
    ").dt.tz_convert(\"Asia/Tokyo\")"
   ]
  },
  {
   "cell_type": "code",
   "execution_count": 9,
   "metadata": {
    "executionInfo": {
     "elapsed": 9,
     "status": "ok",
     "timestamp": 1749068596216,
     "user": {
      "displayName": "Waqar Hassan",
      "userId": "03281038857401447037"
     },
     "user_tz": 180
    },
    "id": "Tc1bMx31n8vY"
   },
   "outputs": [],
   "source": [
    "# for working with matplotlib, add separate latitude/longitude columns\n",
    "quakes = quakes.join(\n",
    "    quakes.get_coordinates().rename(columns=dict(y=\"latitude\", x=\"longitude\"))\n",
    ")"
   ]
  },
  {
   "cell_type": "code",
   "execution_count": 10,
   "metadata": {
    "colab": {
     "base_uri": "https://localhost:8080/",
     "height": 423
    },
    "executionInfo": {
     "elapsed": 17,
     "status": "ok",
     "timestamp": 1749068596645,
     "user": {
      "displayName": "Waqar Hassan",
      "userId": "03281038857401447037"
     },
     "user_tz": 180
    },
    "id": "E6xVtz1-oQ5m",
    "outputId": "493cac27-67bd-4340-dbe5-e498b45c567a"
   },
   "outputs": [
    {
     "data": {
      "text/html": [
       "<div>\n",
       "<style scoped>\n",
       "    .dataframe tbody tr th:only-of-type {\n",
       "        vertical-align: middle;\n",
       "    }\n",
       "\n",
       "    .dataframe tbody tr th {\n",
       "        vertical-align: top;\n",
       "    }\n",
       "\n",
       "    .dataframe thead th {\n",
       "        text-align: right;\n",
       "    }\n",
       "</style>\n",
       "<table border=\"1\" class=\"dataframe\">\n",
       "  <thead>\n",
       "    <tr style=\"text-align: right;\">\n",
       "      <th></th>\n",
       "      <th>mag</th>\n",
       "      <th>time</th>\n",
       "      <th>geometry</th>\n",
       "      <th>longitude</th>\n",
       "      <th>latitude</th>\n",
       "    </tr>\n",
       "  </thead>\n",
       "  <tbody>\n",
       "    <tr>\n",
       "      <th>7</th>\n",
       "      <td>4.6</td>\n",
       "      <td>2024-12-22 16:55:51.387000+09:00</td>\n",
       "      <td>POINT Z (130.6312 31.845 170.684)</td>\n",
       "      <td>130.6312</td>\n",
       "      <td>31.8450</td>\n",
       "    </tr>\n",
       "    <tr>\n",
       "      <th>9</th>\n",
       "      <td>4.5</td>\n",
       "      <td>2024-12-17 22:11:18.418000+09:00</td>\n",
       "      <td>POINT Z (139.9292 36.2615 76.086)</td>\n",
       "      <td>139.9292</td>\n",
       "      <td>36.2615</td>\n",
       "    </tr>\n",
       "    <tr>\n",
       "      <th>17</th>\n",
       "      <td>4.5</td>\n",
       "      <td>2024-12-08 07:39:44.842000+09:00</td>\n",
       "      <td>POINT Z (140.108 35.5123 74.306)</td>\n",
       "      <td>140.1080</td>\n",
       "      <td>35.5123</td>\n",
       "    </tr>\n",
       "    <tr>\n",
       "      <th>19</th>\n",
       "      <td>4.8</td>\n",
       "      <td>2024-12-06 14:26:00.960000+09:00</td>\n",
       "      <td>POINT Z (131.3993 31.8623 63.021)</td>\n",
       "      <td>131.3993</td>\n",
       "      <td>31.8623</td>\n",
       "    </tr>\n",
       "    <tr>\n",
       "      <th>41</th>\n",
       "      <td>4.7</td>\n",
       "      <td>2024-11-16 02:58:51.265000+09:00</td>\n",
       "      <td>POINT Z (140.7467 35.8011 50.526)</td>\n",
       "      <td>140.7467</td>\n",
       "      <td>35.8011</td>\n",
       "    </tr>\n",
       "    <tr>\n",
       "      <th>...</th>\n",
       "      <td>...</td>\n",
       "      <td>...</td>\n",
       "      <td>...</td>\n",
       "      <td>...</td>\n",
       "      <td>...</td>\n",
       "    </tr>\n",
       "    <tr>\n",
       "      <th>312</th>\n",
       "      <td>4.6</td>\n",
       "      <td>2024-01-01 16:28:15.144000+09:00</td>\n",
       "      <td>POINT Z (136.8046 37.3496 10)</td>\n",
       "      <td>136.8046</td>\n",
       "      <td>37.3496</td>\n",
       "    </tr>\n",
       "    <tr>\n",
       "      <th>313</th>\n",
       "      <td>4.6</td>\n",
       "      <td>2024-01-01 16:27:28.747000+09:00</td>\n",
       "      <td>POINT Z (137.2254 37.3802 10)</td>\n",
       "      <td>137.2254</td>\n",
       "      <td>37.3802</td>\n",
       "    </tr>\n",
       "    <tr>\n",
       "      <th>314</th>\n",
       "      <td>6.2</td>\n",
       "      <td>2024-01-01 16:18:41.584000+09:00</td>\n",
       "      <td>POINT Z (136.8272 37.1895 10)</td>\n",
       "      <td>136.8272</td>\n",
       "      <td>37.1895</td>\n",
       "    </tr>\n",
       "    <tr>\n",
       "      <th>315</th>\n",
       "      <td>7.5</td>\n",
       "      <td>2024-01-01 16:10:09.476000+09:00</td>\n",
       "      <td>POINT Z (137.271 37.4874 10)</td>\n",
       "      <td>137.2710</td>\n",
       "      <td>37.4874</td>\n",
       "    </tr>\n",
       "    <tr>\n",
       "      <th>316</th>\n",
       "      <td>5.8</td>\n",
       "      <td>2024-01-01 16:06:05.477000+09:00</td>\n",
       "      <td>POINT Z (137.2491 37.4933 10)</td>\n",
       "      <td>137.2491</td>\n",
       "      <td>37.4933</td>\n",
       "    </tr>\n",
       "  </tbody>\n",
       "</table>\n",
       "<p>78 rows × 5 columns</p>\n",
       "</div>"
      ],
      "text/plain": [
       "     mag                             time                           geometry  \\\n",
       "7    4.6 2024-12-22 16:55:51.387000+09:00  POINT Z (130.6312 31.845 170.684)   \n",
       "9    4.5 2024-12-17 22:11:18.418000+09:00  POINT Z (139.9292 36.2615 76.086)   \n",
       "17   4.5 2024-12-08 07:39:44.842000+09:00   POINT Z (140.108 35.5123 74.306)   \n",
       "19   4.8 2024-12-06 14:26:00.960000+09:00  POINT Z (131.3993 31.8623 63.021)   \n",
       "41   4.7 2024-11-16 02:58:51.265000+09:00  POINT Z (140.7467 35.8011 50.526)   \n",
       "..   ...                              ...                                ...   \n",
       "312  4.6 2024-01-01 16:28:15.144000+09:00      POINT Z (136.8046 37.3496 10)   \n",
       "313  4.6 2024-01-01 16:27:28.747000+09:00      POINT Z (137.2254 37.3802 10)   \n",
       "314  6.2 2024-01-01 16:18:41.584000+09:00      POINT Z (136.8272 37.1895 10)   \n",
       "315  7.5 2024-01-01 16:10:09.476000+09:00       POINT Z (137.271 37.4874 10)   \n",
       "316  5.8 2024-01-01 16:06:05.477000+09:00      POINT Z (137.2491 37.4933 10)   \n",
       "\n",
       "     longitude  latitude  \n",
       "7     130.6312   31.8450  \n",
       "9     139.9292   36.2615  \n",
       "17    140.1080   35.5123  \n",
       "19    131.3993   31.8623  \n",
       "41    140.7467   35.8011  \n",
       "..         ...       ...  \n",
       "312   136.8046   37.3496  \n",
       "313   137.2254   37.3802  \n",
       "314   136.8272   37.1895  \n",
       "315   137.2710   37.4874  \n",
       "316   137.2491   37.4933  \n",
       "\n",
       "[78 rows x 5 columns]"
      ]
     },
     "execution_count": 10,
     "metadata": {},
     "output_type": "execute_result"
    }
   ],
   "source": [
    "quakes"
   ]
  },
  {
   "cell_type": "code",
   "execution_count": 13,
   "metadata": {
    "colab": {
     "base_uri": "https://localhost:8080/",
     "height": 368
    },
    "executionInfo": {
     "elapsed": 1111,
     "status": "ok",
     "timestamp": 1749068598621,
     "user": {
      "displayName": "Waqar Hassan",
      "userId": "03281038857401447037"
     },
     "user_tz": 180
    },
    "id": "3pnnvjl7oRdI",
    "outputId": "7f05d079-ec64-41f1-9e5e-4bf23b2b97fa"
   },
   "outputs": [
    {
     "data": {
      "image/png": "[encoded data removed]",
      "text/plain": [
       "<Figure size 600x400 with 1 Axes>"
      ]
     },
     "metadata": {},
     "output_type": "display_data"
    }
   ],
   "source": [
    "import matplotlib.pyplot as plt\n",
    "\n",
    "fig, ax = plt.subplots(figsize=(6,4))\n",
    "japan.plot(color=\"white\", edgecolor=\"black\", ax=ax)\n",
    "quakes.plot(ax=ax, markersize='mag', color=\"red\")\n",
    "plt.show()"
   ]
  },
  {
   "cell_type": "code",
   "execution_count": 14,
   "metadata": {
    "executionInfo": {
     "elapsed": 13,
     "status": "ok",
     "timestamp": 1749068599951,
     "user": {
      "displayName": "Waqar Hassan",
      "userId": "03281038857401447037"
     },
     "user_tz": 180
    },
    "id": "2weRdWaAo4nW"
   },
   "outputs": [],
   "source": [
    "base_size = 10\n",
    "base_magnitude = 5\n",
    "quakes[\"marker_size\"] = base_size * (10 ** (quakes[\"mag\"] - base_magnitude))"
   ]
  },
  {
   "cell_type": "code",
   "execution_count": null,
   "metadata": {
    "colab": {
     "base_uri": "https://localhost:8080/"
    },
    "executionInfo": {
     "elapsed": 2120,
     "status": "ok",
     "timestamp": 1749068603267,
     "user": {
      "displayName": "Waqar Hassan",
      "userId": "03281038857401447037"
     },
     "user_tz": 180
    },
    "id": "d1E7aVxZo5Ul",
    "outputId": "b453fa91-2441-40fd-f612-cb150cf169ca"
   },
   "outputs": [
    {
     "name": "stdout",
     "output_type": "stream",
     "text": [
      "Requirement already satisfied: contextily in /usr/local/lib/python3.11/dist-packages (1.6.2)\n",
      "Requirement already satisfied: geopy in /usr/local/lib/python3.11/dist-packages (from contextily) (2.4.1)\n",
      "Requirement already satisfied: matplotlib in /usr/local/lib/python3.11/dist-packages (from contextily) (3.10.0)\n",
      "Requirement already satisfied: mercantile in /usr/local/lib/python3.11/dist-packages (from contextily) (1.2.1)\n",
      "Requirement already satisfied: pillow in /usr/local/lib/python3.11/dist-packages (from contextily) (11.2.1)\n",
      "Requirement already satisfied: rasterio in /usr/local/lib/python3.11/dist-packages (from contextily) (1.4.3)\n",
      "Requirement already satisfied: requests in /usr/local/lib/python3.11/dist-packages (from contextily) (2.32.3)\n",
      "Requirement already satisfied: joblib in /usr/local/lib/python3.11/dist-packages (from contextily) (1.5.1)\n",
      "Requirement already satisfied: xyzservices in /usr/local/lib/python3.11/dist-packages (from contextily) (2025.4.0)\n",
      "Requirement already satisfied: geographiclib<3,>=1.52 in /usr/local/lib/python3.11/dist-packages (from geopy->contextily) (2.0)\n",
      "Requirement already satisfied: contourpy>=1.0.1 in /usr/local/lib/python3.11/dist-packages (from matplotlib->contextily) (1.3.2)\n",
      "Requirement already satisfied: cycler>=0.10 in /usr/local/lib/python3.11/dist-packages (from matplotlib->contextily) (0.12.1)\n",
      "Requirement already satisfied: fonttools>=4.22.0 in /usr/local/lib/python3.11/dist-packages (from matplotlib->contextily) (4.58.1)\n",
      "Requirement already satisfied: kiwisolver>=1.3.1 in /usr/local/lib/python3.11/dist-packages (from matplotlib->contextily) (1.4.8)\n",
      "Requirement already satisfied: numpy>=1.23 in /usr/local/lib/python3.11/dist-packages (from matplotlib->contextily) (2.0.2)\n",
      "Requirement already satisfied: packaging>=20.0 in /usr/local/lib/python3.11/dist-packages (from matplotlib->contextily) (24.2)\n",
      "Requirement already satisfied: pyparsing>=2.3.1 in /usr/local/lib/python3.11/dist-packages (from matplotlib->contextily) (3.2.3)\n",
      "Requirement already satisfied: python-dateutil>=2.7 in /usr/local/lib/python3.11/dist-packages (from matplotlib->contextily) (2.9.0.post0)\n",
      "Requirement already satisfied: click>=3.0 in /usr/local/lib/python3.11/dist-packages (from mercantile->contextily) (8.2.1)\n",
      "Requirement already satisfied: affine in /usr/local/lib/python3.11/dist-packages (from rasterio->contextily) (2.4.0)\n",
      "Requirement already satisfied: attrs in /usr/local/lib/python3.11/dist-packages (from rasterio->contextily) (25.3.0)\n",
      "Requirement already satisfied: certifi in /usr/local/lib/python3.11/dist-packages (from rasterio->contextily) (2025.4.26)\n",
      "Requirement already satisfied: cligj>=0.5 in /usr/local/lib/python3.11/dist-packages (from rasterio->contextily) (0.7.2)\n",
      "Requirement already satisfied: click-plugins in /usr/local/lib/python3.11/dist-packages (from rasterio->contextily) (1.1.1)\n",
      "Requirement already satisfied: charset-normalizer<4,>=2 in /usr/local/lib/python3.11/dist-packages (from requests->contextily) (3.4.2)\n",
      "Requirement already satisfied: idna<4,>=2.5 in /usr/local/lib/python3.11/dist-packages (from requests->contextily) (3.10)\n",
      "Requirement already satisfied: urllib3<3,>=1.21.1 in /usr/local/lib/python3.11/dist-packages (from requests->contextily) (2.4.0)\n",
      "Requirement already satisfied: six>=1.5 in /usr/local/lib/python3.11/dist-packages (from python-dateutil>=2.7->matplotlib->contextily) (1.17.0)\n"
     ]
    }
   ],
   "source": [
    "# pip install contextily"
   ]
  },
  {
   "cell_type": "code",
   "execution_count": 15,
   "metadata": {
    "executionInfo": {
     "elapsed": 106465,
     "status": "ok",
     "timestamp": 1749069263868,
     "user": {
      "displayName": "Waqar Hassan",
      "userId": "03281038857401447037"
     },
     "user_tz": 180
    },
    "id": "1PKwzvN5o7pI"
   },
   "outputs": [
    {
     "ename": "FileNotFoundError",
     "evalue": "[WinError 2] O sistema não pode encontrar o arquivo especificado: '\\\\Japan_earthquake_analysis'",
     "output_type": "error",
     "traceback": [
      "\u001b[1;31m---------------------------------------------------------------------------\u001b[0m",
      "\u001b[1;31mFileNotFoundError\u001b[0m                         Traceback (most recent call last)",
      "Cell \u001b[1;32mIn[15], line 56\u001b[0m\n\u001b[0;32m     54\u001b[0m \u001b[38;5;66;03m# To save the animation using Pillow as a gif\u001b[39;00m\n\u001b[0;32m     55\u001b[0m writer \u001b[38;5;241m=\u001b[39m animation\u001b[38;5;241m.\u001b[39mPillowWriter(fps\u001b[38;5;241m=\u001b[39m\u001b[38;5;241m10\u001b[39m, bitrate\u001b[38;5;241m=\u001b[39m\u001b[38;5;241m1800\u001b[39m)\n\u001b[1;32m---> 56\u001b[0m \u001b[43mani\u001b[49m\u001b[38;5;241;43m.\u001b[39;49m\u001b[43msave\u001b[49m\u001b[43m(\u001b[49m\u001b[43moutput_path\u001b[49m\u001b[43m \u001b[49m\u001b[38;5;241;43m+\u001b[39;49m\u001b[43m \u001b[49m\u001b[38;5;124;43m\"\u001b[39;49m\u001b[38;5;124;43m/japan_animated-scatter-v1.gif\u001b[39;49m\u001b[38;5;124;43m\"\u001b[39;49m\u001b[43m,\u001b[49m\u001b[43m \u001b[49m\u001b[43mwriter\u001b[49m\u001b[38;5;241;43m=\u001b[39;49m\u001b[43mwriter\u001b[49m\u001b[43m)\u001b[49m\n\u001b[0;32m     58\u001b[0m plt\u001b[38;5;241m.\u001b[39mshow\n\u001b[0;32m     59\u001b[0m plt\u001b[38;5;241m.\u001b[39mioff\n",
      "File \u001b[1;32mc:\\Users\\waqar\\AppData\\Local\\pypoetry\\Cache\\virtualenvs\\large_language_models-69JTbvz_-py3.12\\Lib\\site-packages\\matplotlib\\animation.py:1098\u001b[0m, in \u001b[0;36mAnimation.save\u001b[1;34m(self, filename, writer, fps, dpi, codec, bitrate, extra_args, metadata, extra_anim, savefig_kwargs, progress_callback)\u001b[0m\n\u001b[0;32m   1093\u001b[0m     \u001b[38;5;28;01mreturn\u001b[39;00m a \u001b[38;5;241m*\u001b[39m np\u001b[38;5;241m.\u001b[39marray([r, g, b]) \u001b[38;5;241m+\u001b[39m \u001b[38;5;241m1\u001b[39m \u001b[38;5;241m-\u001b[39m a\n\u001b[0;32m   1095\u001b[0m \u001b[38;5;66;03m# canvas._is_saving = True makes the draw_event animation-starting\u001b[39;00m\n\u001b[0;32m   1096\u001b[0m \u001b[38;5;66;03m# callback a no-op; canvas.manager = None prevents resizing the GUI\u001b[39;00m\n\u001b[0;32m   1097\u001b[0m \u001b[38;5;66;03m# widget (both are likewise done in savefig()).\u001b[39;00m\n\u001b[1;32m-> 1098\u001b[0m \u001b[43m\u001b[49m\u001b[38;5;28;43;01mwith\u001b[39;49;00m\u001b[43m \u001b[49m\u001b[43m(\u001b[49m\u001b[43mwriter\u001b[49m\u001b[38;5;241;43m.\u001b[39;49m\u001b[43msaving\u001b[49m\u001b[43m(\u001b[49m\u001b[38;5;28;43mself\u001b[39;49m\u001b[38;5;241;43m.\u001b[39;49m\u001b[43m_fig\u001b[49m\u001b[43m,\u001b[49m\u001b[43m \u001b[49m\u001b[43mfilename\u001b[49m\u001b[43m,\u001b[49m\u001b[43m \u001b[49m\u001b[43mdpi\u001b[49m\u001b[43m)\u001b[49m\u001b[43m,\u001b[49m\n\u001b[0;32m   1099\u001b[0m \u001b[43m      \u001b[49m\u001b[43mcbook\u001b[49m\u001b[38;5;241;43m.\u001b[39;49m\u001b[43m_setattr_cm\u001b[49m\u001b[43m(\u001b[49m\u001b[38;5;28;43mself\u001b[39;49m\u001b[38;5;241;43m.\u001b[39;49m\u001b[43m_fig\u001b[49m\u001b[38;5;241;43m.\u001b[39;49m\u001b[43mcanvas\u001b[49m\u001b[43m,\u001b[49m\u001b[43m \u001b[49m\u001b[43m_is_saving\u001b[49m\u001b[38;5;241;43m=\u001b[39;49m\u001b[38;5;28;43;01mTrue\u001b[39;49;00m\u001b[43m,\u001b[49m\u001b[43m \u001b[49m\u001b[43mmanager\u001b[49m\u001b[38;5;241;43m=\u001b[39;49m\u001b[38;5;28;43;01mNone\u001b[39;49;00m\u001b[43m)\u001b[49m\u001b[43m)\u001b[49m\u001b[43m:\u001b[49m\n\u001b[0;32m   1100\u001b[0m \u001b[43m    \u001b[49m\u001b[38;5;28;43;01mif\u001b[39;49;00m\u001b[43m \u001b[49m\u001b[38;5;129;43;01mnot\u001b[39;49;00m\u001b[43m \u001b[49m\u001b[43mwriter\u001b[49m\u001b[38;5;241;43m.\u001b[39;49m\u001b[43m_supports_transparency\u001b[49m\u001b[43m(\u001b[49m\u001b[43m)\u001b[49m\u001b[43m:\u001b[49m\n\u001b[0;32m   1101\u001b[0m \u001b[43m        \u001b[49m\u001b[43mfacecolor\u001b[49m\u001b[43m \u001b[49m\u001b[38;5;241;43m=\u001b[39;49m\u001b[43m \u001b[49m\u001b[43msavefig_kwargs\u001b[49m\u001b[38;5;241;43m.\u001b[39;49m\u001b[43mget\u001b[49m\u001b[43m(\u001b[49m\u001b[38;5;124;43m'\u001b[39;49m\u001b[38;5;124;43mfacecolor\u001b[39;49m\u001b[38;5;124;43m'\u001b[39;49m\u001b[43m,\u001b[49m\n\u001b[0;32m   1102\u001b[0m \u001b[43m                                       \u001b[49m\u001b[43mmpl\u001b[49m\u001b[38;5;241;43m.\u001b[39;49m\u001b[43mrcParams\u001b[49m\u001b[43m[\u001b[49m\u001b[38;5;124;43m'\u001b[39;49m\u001b[38;5;124;43msavefig.facecolor\u001b[39;49m\u001b[38;5;124;43m'\u001b[39;49m\u001b[43m]\u001b[49m\u001b[43m)\u001b[49m\n",
      "File \u001b[1;32m~\\AppData\\Local\\Programs\\Python\\Python312\\Lib\\contextlib.py:137\u001b[0m, in \u001b[0;36m_GeneratorContextManager.__enter__\u001b[1;34m(self)\u001b[0m\n\u001b[0;32m    135\u001b[0m \u001b[38;5;28;01mdel\u001b[39;00m \u001b[38;5;28mself\u001b[39m\u001b[38;5;241m.\u001b[39margs, \u001b[38;5;28mself\u001b[39m\u001b[38;5;241m.\u001b[39mkwds, \u001b[38;5;28mself\u001b[39m\u001b[38;5;241m.\u001b[39mfunc\n\u001b[0;32m    136\u001b[0m \u001b[38;5;28;01mtry\u001b[39;00m:\n\u001b[1;32m--> 137\u001b[0m     \u001b[38;5;28;01mreturn\u001b[39;00m \u001b[38;5;28;43mnext\u001b[39;49m\u001b[43m(\u001b[49m\u001b[38;5;28;43mself\u001b[39;49m\u001b[38;5;241;43m.\u001b[39;49m\u001b[43mgen\u001b[49m\u001b[43m)\u001b[49m\n\u001b[0;32m    138\u001b[0m \u001b[38;5;28;01mexcept\u001b[39;00m \u001b[38;5;167;01mStopIteration\u001b[39;00m:\n\u001b[0;32m    139\u001b[0m     \u001b[38;5;28;01mraise\u001b[39;00m \u001b[38;5;167;01mRuntimeError\u001b[39;00m(\u001b[38;5;124m\"\u001b[39m\u001b[38;5;124mgenerator didn\u001b[39m\u001b[38;5;124m'\u001b[39m\u001b[38;5;124mt yield\u001b[39m\u001b[38;5;124m\"\u001b[39m) \u001b[38;5;28;01mfrom\u001b[39;00m \u001b[38;5;28;01mNone\u001b[39;00m\n",
      "File \u001b[1;32mc:\\Users\\waqar\\AppData\\Local\\pypoetry\\Cache\\virtualenvs\\large_language_models-69JTbvz_-py3.12\\Lib\\site-packages\\matplotlib\\animation.py:221\u001b[0m, in \u001b[0;36mAbstractMovieWriter.saving\u001b[1;34m(self, fig, outfile, dpi, *args, **kwargs)\u001b[0m\n\u001b[0;32m    216\u001b[0m     _log\u001b[38;5;241m.\u001b[39minfo(\u001b[38;5;124m\"\u001b[39m\u001b[38;5;124mDisabling savefig.bbox = \u001b[39m\u001b[38;5;124m'\u001b[39m\u001b[38;5;124mtight\u001b[39m\u001b[38;5;124m'\u001b[39m\u001b[38;5;124m, as it may cause \u001b[39m\u001b[38;5;124m\"\u001b[39m\n\u001b[0;32m    217\u001b[0m               \u001b[38;5;124m\"\u001b[39m\u001b[38;5;124mframe size to vary, which is inappropriate for \u001b[39m\u001b[38;5;124m\"\u001b[39m\n\u001b[0;32m    218\u001b[0m               \u001b[38;5;124m\"\u001b[39m\u001b[38;5;124manimation.\u001b[39m\u001b[38;5;124m\"\u001b[39m)\n\u001b[0;32m    220\u001b[0m \u001b[38;5;66;03m# This particular sequence is what contextlib.contextmanager wants\u001b[39;00m\n\u001b[1;32m--> 221\u001b[0m \u001b[38;5;28;43mself\u001b[39;49m\u001b[38;5;241;43m.\u001b[39;49m\u001b[43msetup\u001b[49m\u001b[43m(\u001b[49m\u001b[43mfig\u001b[49m\u001b[43m,\u001b[49m\u001b[43m \u001b[49m\u001b[43moutfile\u001b[49m\u001b[43m,\u001b[49m\u001b[43m \u001b[49m\u001b[43mdpi\u001b[49m\u001b[43m,\u001b[49m\u001b[43m \u001b[49m\u001b[38;5;241;43m*\u001b[39;49m\u001b[43margs\u001b[49m\u001b[43m,\u001b[49m\u001b[43m \u001b[49m\u001b[38;5;241;43m*\u001b[39;49m\u001b[38;5;241;43m*\u001b[39;49m\u001b[43mkwargs\u001b[49m\u001b[43m)\u001b[49m\n\u001b[0;32m    222\u001b[0m \u001b[38;5;28;01mwith\u001b[39;00m mpl\u001b[38;5;241m.\u001b[39mrc_context({\u001b[38;5;124m'\u001b[39m\u001b[38;5;124msavefig.bbox\u001b[39m\u001b[38;5;124m'\u001b[39m: \u001b[38;5;28;01mNone\u001b[39;00m}):\n\u001b[0;32m    223\u001b[0m     \u001b[38;5;28;01mtry\u001b[39;00m:\n",
      "File \u001b[1;32mc:\\Users\\waqar\\AppData\\Local\\pypoetry\\Cache\\virtualenvs\\large_language_models-69JTbvz_-py3.12\\Lib\\site-packages\\matplotlib\\animation.py:487\u001b[0m, in \u001b[0;36mPillowWriter.setup\u001b[1;34m(self, fig, outfile, dpi)\u001b[0m\n\u001b[0;32m    486\u001b[0m \u001b[38;5;28;01mdef\u001b[39;00m \u001b[38;5;21msetup\u001b[39m(\u001b[38;5;28mself\u001b[39m, fig, outfile, dpi\u001b[38;5;241m=\u001b[39m\u001b[38;5;28;01mNone\u001b[39;00m):\n\u001b[1;32m--> 487\u001b[0m     \u001b[38;5;28;43msuper\u001b[39;49m\u001b[43m(\u001b[49m\u001b[43m)\u001b[49m\u001b[38;5;241;43m.\u001b[39;49m\u001b[43msetup\u001b[49m\u001b[43m(\u001b[49m\u001b[43mfig\u001b[49m\u001b[43m,\u001b[49m\u001b[43m \u001b[49m\u001b[43moutfile\u001b[49m\u001b[43m,\u001b[49m\u001b[43m \u001b[49m\u001b[43mdpi\u001b[49m\u001b[38;5;241;43m=\u001b[39;49m\u001b[43mdpi\u001b[49m\u001b[43m)\u001b[49m\n\u001b[0;32m    488\u001b[0m     \u001b[38;5;28mself\u001b[39m\u001b[38;5;241m.\u001b[39m_frames \u001b[38;5;241m=\u001b[39m []\n",
      "File \u001b[1;32mc:\\Users\\waqar\\AppData\\Local\\pypoetry\\Cache\\virtualenvs\\large_language_models-69JTbvz_-py3.12\\Lib\\site-packages\\matplotlib\\animation.py:168\u001b[0m, in \u001b[0;36mAbstractMovieWriter.setup\u001b[1;34m(self, fig, outfile, dpi)\u001b[0m\n\u001b[0;32m    154\u001b[0m \u001b[38;5;250m\u001b[39m\u001b[38;5;124;03m\"\"\"\u001b[39;00m\n\u001b[0;32m    155\u001b[0m \u001b[38;5;124;03mSetup for writing the movie file.\u001b[39;00m\n\u001b[0;32m    156\u001b[0m \n\u001b[1;32m   (...)\u001b[0m\n\u001b[0;32m    165\u001b[0m \u001b[38;5;124;03m    in pixels of the resulting movie file.\u001b[39;00m\n\u001b[0;32m    166\u001b[0m \u001b[38;5;124;03m\"\"\"\u001b[39;00m\n\u001b[0;32m    167\u001b[0m \u001b[38;5;66;03m# Check that path is valid\u001b[39;00m\n\u001b[1;32m--> 168\u001b[0m \u001b[43mPath\u001b[49m\u001b[43m(\u001b[49m\u001b[43moutfile\u001b[49m\u001b[43m)\u001b[49m\u001b[38;5;241;43m.\u001b[39;49m\u001b[43mparent\u001b[49m\u001b[38;5;241;43m.\u001b[39;49m\u001b[43mresolve\u001b[49m\u001b[43m(\u001b[49m\u001b[43mstrict\u001b[49m\u001b[38;5;241;43m=\u001b[39;49m\u001b[38;5;28;43;01mTrue\u001b[39;49;00m\u001b[43m)\u001b[49m\n\u001b[0;32m    169\u001b[0m \u001b[38;5;28mself\u001b[39m\u001b[38;5;241m.\u001b[39moutfile \u001b[38;5;241m=\u001b[39m outfile\n\u001b[0;32m    170\u001b[0m \u001b[38;5;28mself\u001b[39m\u001b[38;5;241m.\u001b[39mfig \u001b[38;5;241m=\u001b[39m fig\n",
      "File \u001b[1;32m~\\AppData\\Local\\Programs\\Python\\Python312\\Lib\\pathlib.py:1240\u001b[0m, in \u001b[0;36mPath.resolve\u001b[1;34m(self, strict)\u001b[0m\n\u001b[0;32m   1237\u001b[0m         \u001b[38;5;28;01mraise\u001b[39;00m \u001b[38;5;167;01mRuntimeError\u001b[39;00m(\u001b[38;5;124m\"\u001b[39m\u001b[38;5;124mSymlink loop from \u001b[39m\u001b[38;5;132;01m%r\u001b[39;00m\u001b[38;5;124m\"\u001b[39m \u001b[38;5;241m%\u001b[39m e\u001b[38;5;241m.\u001b[39mfilename)\n\u001b[0;32m   1239\u001b[0m \u001b[38;5;28;01mtry\u001b[39;00m:\n\u001b[1;32m-> 1240\u001b[0m     s \u001b[38;5;241m=\u001b[39m \u001b[38;5;28;43mself\u001b[39;49m\u001b[38;5;241;43m.\u001b[39;49m\u001b[43m_flavour\u001b[49m\u001b[38;5;241;43m.\u001b[39;49m\u001b[43mrealpath\u001b[49m\u001b[43m(\u001b[49m\u001b[38;5;28;43mself\u001b[39;49m\u001b[43m,\u001b[49m\u001b[43m \u001b[49m\u001b[43mstrict\u001b[49m\u001b[38;5;241;43m=\u001b[39;49m\u001b[43mstrict\u001b[49m\u001b[43m)\u001b[49m\n\u001b[0;32m   1241\u001b[0m \u001b[38;5;28;01mexcept\u001b[39;00m \u001b[38;5;167;01mOSError\u001b[39;00m \u001b[38;5;28;01mas\u001b[39;00m e:\n\u001b[0;32m   1242\u001b[0m     check_eloop(e)\n",
      "File \u001b[1;32m~\\AppData\\Local\\Programs\\Python\\Python312\\Lib\\ntpath.py:722\u001b[0m, in \u001b[0;36mrealpath\u001b[1;34m(path, strict)\u001b[0m\n\u001b[0;32m    720\u001b[0m     path \u001b[38;5;241m=\u001b[39m join(cwd, path)\n\u001b[0;32m    721\u001b[0m \u001b[38;5;28;01mtry\u001b[39;00m:\n\u001b[1;32m--> 722\u001b[0m     path \u001b[38;5;241m=\u001b[39m \u001b[43m_getfinalpathname\u001b[49m\u001b[43m(\u001b[49m\u001b[43mpath\u001b[49m\u001b[43m)\u001b[49m\n\u001b[0;32m    723\u001b[0m     initial_winerror \u001b[38;5;241m=\u001b[39m \u001b[38;5;241m0\u001b[39m\n\u001b[0;32m    724\u001b[0m \u001b[38;5;28;01mexcept\u001b[39;00m \u001b[38;5;167;01mValueError\u001b[39;00m \u001b[38;5;28;01mas\u001b[39;00m ex:\n\u001b[0;32m    725\u001b[0m     \u001b[38;5;66;03m# gh-106242: Raised for embedded null characters\u001b[39;00m\n\u001b[0;32m    726\u001b[0m     \u001b[38;5;66;03m# In strict mode, we convert into an OSError.\u001b[39;00m\n\u001b[0;32m    727\u001b[0m     \u001b[38;5;66;03m# Non-strict mode returns the path as-is, since we've already\u001b[39;00m\n\u001b[0;32m    728\u001b[0m     \u001b[38;5;66;03m# made it absolute.\u001b[39;00m\n",
      "\u001b[1;31mFileNotFoundError\u001b[0m: [WinError 2] O sistema não pode encontrar o arquivo especificado: '\\\\Japan_earthquake_analysis'"
     ]
    },
    {
     "data": {
      "image/png": "[encoded data removed]",
      "text/plain": [
       "<Figure size 600x500 with 1 Axes>"
      ]
     },
     "metadata": {},
     "output_type": "display_data"
    }
   ],
   "source": [
    "import contextily as cx\n",
    "import matplotlib.animation as animation\n",
    "import matplotlib.pyplot as plt\n",
    "import numpy as np\n",
    "\n",
    "fig, ax = plt.subplots(layout=\"constrained\", figsize=(6,5))\n",
    "ax.set(xlim=[minlongitude, maxlongitude], ylim=[minlatitude, maxlatitude])\n",
    "ax.set_title(\"The January 2024 Nepal earthquake and its aftershocks\")\n",
    "# add basemap\n",
    "cx.add_basemap(ax, crs=quakes.crs, zoom=8, source=\"CartoDB.Voyager\")\n",
    "\n",
    "# the first point in the animation\n",
    "points_opts = dict(alpha=0.5, linewidth=0, color=\"red\")\n",
    "points = ax.scatter(\n",
    "    quakes[\"longitude\"].iloc[0],\n",
    "    quakes[\"latitude\"].iloc[0],\n",
    "    s=quakes[\"marker_size\"].iloc[0],\n",
    "    **points_opts\n",
    ")\n",
    "\n",
    "# the first label\n",
    "# labels show the time of the earthquake\n",
    "label_opts = dict(ha=\"center\", va=\"center\", fontsize=15, color=\"black\", transform=ax.transAxes)\n",
    "label = ax.text(\n",
    "    0.25,\n",
    "    0.95,\n",
    "    quakes[\"time\"].iloc[0].strftime(\"%Y-%m-%d %H:%M\"),\n",
    "    **label_opts\n",
    ")\n",
    "\n",
    "# loop through each point in the data and draw a marker and legend for that data point\n",
    "def update(frame):\n",
    "    # for each frame, update the data stored on each artist.\n",
    "    x = quakes[\"longitude\"].iloc[:frame]\n",
    "    y = quakes[\"latitude\"].iloc[:frame]\n",
    "\n",
    "    # update the scatter plot:\n",
    "    data = np.stack([x, y]).T\n",
    "    points.set_offsets(data)\n",
    "\n",
    "    # set the size of the earthquakes\n",
    "    points.set_sizes(quakes[\"marker_size\"].iloc[:frame])\n",
    "\n",
    "    # update the label\n",
    "    label.set_text(quakes[\"time\"].iloc[frame - 1].strftime(\"%Y-%m-%d %H:%M\"))\n",
    "\n",
    "    return (points,)\n",
    "\n",
    "# animate by looping through all datapoints.\n",
    "ani = animation.FuncAnimation(\n",
    "    fig=fig, func=update, frames=len(quakes), interval=600\n",
    ")\n",
    "\n",
    "# To save the animation using Pillow as a gif\n",
    "writer = animation.PillowWriter(fps=10, bitrate=1800)\n",
    "ani.save(output_path + \"/japan_animated-scatter-v1.gif\", writer=writer)\n",
    "\n",
    "plt.show\n",
    "plt.ioff\n",
    "plt.close()"
   ]
  },
  {
   "cell_type": "code",
   "execution_count": 33,
   "metadata": {
    "colab": {
     "base_uri": "https://localhost:8080/",
     "height": 452
    },
    "executionInfo": {
     "elapsed": 87,
     "status": "ok",
     "timestamp": 1749069263973,
     "user": {
      "displayName": "Waqar Hassan",
      "userId": "03281038857401447037"
     },
     "user_tz": 180
    },
    "id": "Z5YH_ADMpaEJ",
    "outputId": "02e722d7-0b23-46a7-a34e-d46b22067f2c"
   },
   "outputs": [
    {
     "data": {
      "text/plain": [
       "<matplotlib.legend.Legend at 0x7afe391048d0>"
      ]
     },
     "execution_count": 33,
     "metadata": {},
     "output_type": "execute_result"
    },
    {
     "data": {
      "image/png": "[encoded data removed]",
      "text/plain": [
       "<Figure size 640x480 with 1 Axes>"
      ]
     },
     "metadata": {},
     "output_type": "display_data"
    }
   ],
   "source": [
    "from matplotlib.lines import Line2D\n",
    "\n",
    "min_marker_size = 10\n",
    "min_magnitude = 5\n",
    "# the four magnitudes in the legend\n",
    "mags = np.array([5, 6, 7, quakes['mag'].max()])\n",
    "marker_sizes = min_marker_size * (10 ** (mags - min_magnitude))\n",
    "\n",
    "def get_legend_elements(marker_sizes):\n",
    "    # marker size for each magnitude\n",
    "    marker_opts = dict(marker=\"o\", color=\"w\", markerfacecolor=\"red\", alpha=0.5)\n",
    "    legend_elements = [\n",
    "        Line2D(\n",
    "            [0],\n",
    "            [i],\n",
    "            label=mags[i],\n",
    "            markersize=s,\n",
    "            **marker_opts\n",
    "        )\n",
    "        for i, s in enumerate(marker_sizes)\n",
    "    ]\n",
    "    return legend_elements\n",
    "\n",
    "fig, ax = plt.subplots()\n",
    "legend_opts = dict(title=\"Magnitude\", labelspacing=1, frameon=False)\n",
    "ax.legend(handles=get_legend_elements(marker_sizes), **legend_opts, loc='center')"
   ]
  },
  {
   "cell_type": "code",
   "execution_count": 34,
   "metadata": {
    "colab": {
     "base_uri": "https://localhost:8080/",
     "height": 435
    },
    "executionInfo": {
     "elapsed": 118,
     "status": "ok",
     "timestamp": 1749069264093,
     "user": {
      "displayName": "Waqar Hassan",
      "userId": "03281038857401447037"
     },
     "user_tz": 180
    },
    "id": "8mET1xj7rfLF",
    "outputId": "dfebf4df-1585-4880-eb6c-b486eaf411ec"
   },
   "outputs": [
    {
     "data": {
      "image/png": "[encoded data removed]",
      "text/plain": [
       "<Figure size 640x480 with 1 Axes>"
      ]
     },
     "metadata": {},
     "output_type": "display_data"
    }
   ],
   "source": [
    "# marker size for each magnitude\n",
    "marker_sizes = np.sqrt(min_marker_size * (10 ** (mags - min_magnitude)))\n",
    "\n",
    "fig, ax = plt.subplots()\n",
    "ax.legend(\n",
    "    handles=get_legend_elements(marker_sizes),\n",
    "    loc=\"center\",\n",
    "    title=\"Magnitude\",\n",
    "    labelspacing=1,\n",
    "    frameon=False\n",
    ")\n",
    "plt.show()"
   ]
  },
  {
   "cell_type": "code",
   "execution_count": 35,
   "metadata": {
    "executionInfo": {
     "elapsed": 108558,
     "status": "ok",
     "timestamp": 1749069372649,
     "user": {
      "displayName": "Waqar Hassan",
      "userId": "03281038857401447037"
     },
     "user_tz": 180
    },
    "id": "xKQyXoZdrqs5"
   },
   "outputs": [],
   "source": [
    "fig, ax = plt.subplots(layout=\"constrained\", figsize=(7,5))\n",
    "ax.set(xlim=[minlongitude, maxlongitude], ylim=[minlatitude, maxlatitude])\n",
    "ax.set_title(\"The April 2015 Japan earthquake and its aftershocks\")\n",
    "cx.add_basemap(ax, crs=quakes.crs, zoom=8, source=\"CartoDB.Voyager\")\n",
    "\n",
    "points = ax.scatter(\n",
    "    quakes[\"longitude\"].iloc[0],\n",
    "    quakes[\"latitude\"].iloc[0],\n",
    "    s=quakes[\"marker_size\"].iloc[0],\n",
    "    **points_opts\n",
    ")\n",
    "\n",
    "label = ax.text(\n",
    "    0.25,\n",
    "    0.95,\n",
    "    quakes[\"time\"].iloc[0].strftime(\"%Y-%m-%d %H:%M\"),\n",
    "    **label_opts\n",
    ")\n",
    "\n",
    "ax.legend(\n",
    "    handles=get_legend_elements(marker_sizes),\n",
    "    loc=\"center left\",\n",
    "    title=\"Magnitude\",\n",
    "    labelspacing=1,\n",
    "    frameon=False,\n",
    "    bbox_to_anchor=(1.05, 0.5), # place the legend to the right\n",
    ")\n",
    "\n",
    "ani = animation.FuncAnimation(\n",
    "    fig=fig, func=update, frames=len(quakes), interval=600\n",
    ")\n",
    "\n",
    "# To save the animation using Pillow as a gif\n",
    "writer = animation.PillowWriter(fps=15, bitrate=1800)\n",
    "ani.save(output_path+\"/japan_animated-scatter-v2.gif\", writer=writer)\n",
    "\n",
    "plt.ioff\n",
    "plt.close()"
   ]
  },
  {
   "cell_type": "code",
   "execution_count": null,
   "metadata": {
    "colab": {
     "base_uri": "https://localhost:8080/"
    },
    "executionInfo": {
     "elapsed": 17931,
     "status": "ok",
     "timestamp": 1746822211587,
     "user": {
      "displayName": "Waqar Hassan",
      "userId": "03281038857401447037"
     },
     "user_tz": 180
    },
    "id": "8FwH2SGzsFJR",
    "outputId": "832e6c50-9262-4961-f47f-809fdd63b695"
   },
   "outputs": [
    {
     "name": "stdout",
     "output_type": "stream",
     "text": [
      "Drive already mounted at /content/drive; to attempt to forcibly remount, call drive.mount(\"/content/drive\", force_remount=True).\n"
     ]
    }
   ],
   "source": [
    "from google.colab import drive\n",
    "drive.mount('/content/drive')\n"
   ]
  },
  {
   "cell_type": "code",
   "execution_count": 36,
   "metadata": {
    "colab": {
     "base_uri": "https://localhost:8080/"
    },
    "executionInfo": {
     "elapsed": 50,
     "status": "ok",
     "timestamp": 1749069437342,
     "user": {
      "displayName": "Waqar Hassan",
      "userId": "03281038857401447037"
     },
     "user_tz": 180
    },
    "id": "xbveZetTt2EQ",
    "outputId": "5397174d-4f9e-41f5-9437-3e8839951665"
   },
   "outputs": [
    {
     "name": "stdout",
     "output_type": "stream",
     "text": [
      "/content/drive/MyDrive/Data analysis\n"
     ]
    }
   ],
   "source": [
    "%cd /content/drive/MyDrive/Data analysis\n"
   ]
  },
  {
   "cell_type": "code",
   "execution_count": 37,
   "metadata": {
    "colab": {
     "base_uri": "https://localhost:8080/",
     "height": 36
    },
    "executionInfo": {
     "elapsed": 6,
     "status": "ok",
     "timestamp": 1749069439950,
     "user": {
      "displayName": "Waqar Hassan",
      "userId": "03281038857401447037"
     },
     "user_tz": 180
    },
    "id": "MFCwG0CtuBsq",
    "outputId": "99aed358-82a9-468b-833b-3be85e86af8b"
   },
   "outputs": [
    {
     "data": {
      "application/vnd.google.colaboratory.intrinsic+json": {
       "type": "string"
      },
      "text/plain": [
       "'/content/drive/MyDrive/Data analysis'"
      ]
     },
     "execution_count": 37,
     "metadata": {},
     "output_type": "execute_result"
    }
   ],
   "source": [
    "pwd\n"
   ]
  },
  {
   "cell_type": "code",
   "execution_count": 38,
   "metadata": {
    "colab": {
     "base_uri": "https://localhost:8080/"
    },
    "executionInfo": {
     "elapsed": 17140,
     "status": "ok",
     "timestamp": 1749069461594,
     "user": {
      "displayName": "Waqar Hassan",
      "userId": "03281038857401447037"
     },
     "user_tz": 180
    },
    "id": "qkInJCbBxkGs",
    "outputId": "71134b43-7ea4-478a-dd0a-3a7697c7cd89"
   },
   "outputs": [
    {
     "name": "stdout",
     "output_type": "stream",
     "text": [
      "Enter your GitHub Personal Access Token:··········\n"
     ]
    }
   ],
   "source": [
    "import getpass\n",
    "\n",
    "# Prompt securely for GitHub token (input is hidden)\n",
    "token = getpass.getpass('Enter your GitHub Personal Access Token:')\n"
   ]
  },
  {
   "cell_type": "code",
   "execution_count": 49,
   "metadata": {
    "colab": {
     "base_uri": "https://localhost:8080/"
    },
    "executionInfo": {
     "elapsed": 310,
     "status": "ok",
     "timestamp": 1749069847320,
     "user": {
      "displayName": "Waqar Hassan",
      "userId": "03281038857401447037"
     },
     "user_tz": 180
    },
    "id": "2XAemAxguDaS",
    "outputId": "5bc1044b-3fca-4672-f86e-5112a92b26ab"
   },
   "outputs": [
    {
     "name": "stdout",
     "output_type": "stream",
     "text": [
      "Reinitialized existing Git repository in /content/drive/MyDrive/Data analysis/.git/\n"
     ]
    }
   ],
   "source": [
    "!git init\n",
    "!git config --global user.email \"waqar_comsat@yahoo.com\"\n",
    "!git config --global user.name \"Waqar351\""
   ]
  },
  {
   "cell_type": "code",
   "execution_count": 51,
   "metadata": {
    "executionInfo": {
     "elapsed": 101,
     "status": "ok",
     "timestamp": 1749069856812,
     "user": {
      "displayName": "Waqar Hassan",
      "userId": "03281038857401447037"
     },
     "user_tz": 180
    },
    "id": "Ts7zWgLHuP7m"
   },
   "outputs": [],
   "source": [
    "!git remote add origin https://github.com/Waqar351/earth_quake_visulizations.git\n"
   ]
  },
  {
   "cell_type": "code",
   "execution_count": 50,
   "metadata": {
    "executionInfo": {
     "elapsed": 104,
     "status": "ok",
     "timestamp": 1749069854640,
     "user": {
      "displayName": "Waqar Hassan",
      "userId": "03281038857401447037"
     },
     "user_tz": 180
    },
    "id": "ZdKEzJRQrhmN"
   },
   "outputs": [],
   "source": [
    "!git remote remove origin"
   ]
  },
  {
   "cell_type": "code",
   "execution_count": 52,
   "metadata": {
    "colab": {
     "base_uri": "https://localhost:8080/"
    },
    "executionInfo": {
     "elapsed": 102,
     "status": "ok",
     "timestamp": 1749069859314,
     "user": {
      "displayName": "Waqar Hassan",
      "userId": "03281038857401447037"
     },
     "user_tz": 180
    },
    "id": "yKC5COabq4Hr",
    "outputId": "3551c16c-f4e2-4260-c480-6a9c5375af63"
   },
   "outputs": [
    {
     "name": "stdout",
     "output_type": "stream",
     "text": [
      "origin\thttps://github.com/Waqar351/earth_quake_visulizations.git (fetch)\n",
      "origin\thttps://github.com/Waqar351/earth_quake_visulizations.git (push)\n"
     ]
    }
   ],
   "source": [
    "!git remote -v\n"
   ]
  },
  {
   "cell_type": "code",
   "execution_count": 53,
   "metadata": {
    "colab": {
     "base_uri": "https://localhost:8080/"
    },
    "executionInfo": {
     "elapsed": 305,
     "status": "ok",
     "timestamp": 1749069861664,
     "user": {
      "displayName": "Waqar Hassan",
      "userId": "03281038857401447037"
     },
     "user_tz": 180
    },
    "id": "lpEC_hx4r4VQ",
    "outputId": "8a557c5b-8a5f-4140-c738-a067cb1d3fd1"
   },
   "outputs": [
    {
     "name": "stdout",
     "output_type": "stream",
     "text": [
      "fatal: could not read Username for 'https://github.com': No such device or address\n"
     ]
    }
   ],
   "source": [
    "!git push -u origin main\n"
   ]
  },
  {
   "cell_type": "code",
   "execution_count": null,
   "metadata": {
    "id": "tpNSKsZEuwhg"
   },
   "outputs": [],
   "source": [
    "!git add ."
   ]
  },
  {
   "cell_type": "code",
   "execution_count": null,
   "metadata": {
    "colab": {
     "base_uri": "https://localhost:8080/"
    },
    "executionInfo": {
     "elapsed": 424,
     "status": "ok",
     "timestamp": 1746825091576,
     "user": {
      "displayName": "Waqar Hassan",
      "userId": "03281038857401447037"
     },
     "user_tz": 180
    },
    "id": "S2jMpo_su5D-",
    "outputId": "2ccb847b-cb78-4367-ad50-e3f1618ef65b"
   },
   "outputs": [
    {
     "name": "stdout",
     "output_type": "stream",
     "text": [
      "[main f3ac956] Japan Earthquake visualization\n",
      " 1 file changed, 1 insertion(+), 1 deletion(-)\n"
     ]
    }
   ],
   "source": [
    "!git commit -m \"Japan Earthquake visualization\""
   ]
  },
  {
   "cell_type": "code",
   "execution_count": null,
   "metadata": {
    "id": "VwJhQ4jYv5iF"
   },
   "outputs": [],
   "source": [
    "!git branch -M main"
   ]
  },
  {
   "cell_type": "code",
   "execution_count": null,
   "metadata": {
    "colab": {
     "base_uri": "https://localhost:8080/"
    },
    "executionInfo": {
     "elapsed": 302,
     "status": "ok",
     "timestamp": 1746825099896,
     "user": {
      "displayName": "Waqar Hassan",
      "userId": "03281038857401447037"
     },
     "user_tz": 180
    },
    "id": "vHgIC7nMvAGb",
    "outputId": "b37b19a0-ce06-48c0-93ae-adb606ee1919"
   },
   "outputs": [
    {
     "name": "stdout",
     "output_type": "stream",
     "text": [
      "fatal: could not read Username for 'https://github.com': No such device or address\n"
     ]
    }
   ],
   "source": [
    "!git push origin main\n"
   ]
  },
  {
   "cell_type": "code",
   "execution_count": null,
   "metadata": {
    "id": "DeBkj-iTvJKp"
   },
   "outputs": [],
   "source": [
    "username = \"waqar351\"\n",
    "email = \"waqar_comsat@yahoo.com\"\n",
    "repo = \"earth_quake_visulizations\"\n",
    "\n",
    "!git config --global user.name \"{username}\"\n",
    "!git config --global user.email \"{email}\""
   ]
  },
  {
   "cell_type": "code",
   "execution_count": null,
   "metadata": {
    "colab": {
     "base_uri": "https://localhost:8080/"
    },
    "executionInfo": {
     "elapsed": 111,
     "status": "ok",
     "timestamp": 1746825104722,
     "user": {
      "displayName": "Waqar Hassan",
      "userId": "03281038857401447037"
     },
     "user_tz": 180
    },
    "id": "otgXuE4dy_sH",
    "outputId": "7008d364-bc25-4cb5-bfcf-be15638c67cc"
   },
   "outputs": [
    {
     "name": "stdout",
     "output_type": "stream",
     "text": [
      "fatal: destination path 'earth_quake_visulizations' already exists and is not an empty directory.\n"
     ]
    }
   ],
   "source": [
    "!git clone https://{token}@github.com/{username}/{repo}.git\n"
   ]
  },
  {
   "cell_type": "code",
   "execution_count": null,
   "metadata": {
    "colab": {
     "base_uri": "https://localhost:8080/",
     "height": 36
    },
    "executionInfo": {
     "elapsed": 749,
     "status": "ok",
     "timestamp": 1746823692461,
     "user": {
      "displayName": "Waqar Hassan",
      "userId": "03281038857401447037"
     },
     "user_tz": 180
    },
    "id": "MqTKjZq6zFjb",
    "outputId": "c8763e4e-07ab-42ad-aca7-3284b1f8c835"
   },
   "outputs": [
    {
     "data": {
      "application/vnd.google.colaboratory.intrinsic+json": {
       "type": "string"
      },
      "text/plain": [
       "'/content/earth_quake_visulizations'"
      ]
     },
     "execution_count": 76,
     "metadata": {},
     "output_type": "execute_result"
    }
   ],
   "source": [
    "import shutil\n",
    "\n",
    "# Example: copy folder from Google Drive to cloned repo\n",
    "# shutil.copytree('/content/drive/MyDrive/Data analysis', f'/content/{repo}/your_folder', dirs_exist_ok=True)\n",
    "shutil.copytree('/content/drive/MyDrive/Data analysis', f'/content/{repo}', dirs_exist_ok=True)"
   ]
  },
  {
   "cell_type": "code",
   "execution_count": null,
   "metadata": {
    "colab": {
     "base_uri": "https://localhost:8080/"
    },
    "executionInfo": {
     "elapsed": 1720,
     "status": "ok",
     "timestamp": 1746823759546,
     "user": {
      "displayName": "Waqar Hassan",
      "userId": "03281038857401447037"
     },
     "user_tz": 180
    },
    "id": "_q2l5r13zyN_",
    "outputId": "daf291ff-f3f7-4011-e83a-d5fbe56f2cc4"
   },
   "outputs": [
    {
     "name": "stdout",
     "output_type": "stream",
     "text": [
      "warning: adding embedded git repository: earth_quake_visulizations\n",
      "\u001b[33mhint: You've added another git repository inside your current repository.\u001b[m\n",
      "\u001b[33mhint: Clones of the outer repository will not contain the contents of\u001b[m\n",
      "\u001b[33mhint: the embedded repository and will not know how to obtain it.\u001b[m\n",
      "\u001b[33mhint: If you meant to add a submodule, use:\u001b[m\n",
      "\u001b[33mhint: \u001b[m\n",
      "\u001b[33mhint: \tgit submodule add <url> earth_quake_visulizations\u001b[m\n",
      "\u001b[33mhint: \u001b[m\n",
      "\u001b[33mhint: If you added this path by mistake, you can remove it from the\u001b[m\n",
      "\u001b[33mhint: index with:\u001b[m\n",
      "\u001b[33mhint: \u001b[m\n",
      "\u001b[33mhint: \tgit rm --cached earth_quake_visulizations\u001b[m\n",
      "\u001b[33mhint: \u001b[m\n",
      "\u001b[33mhint: See \"git help submodule\" for more information.\u001b[m\n",
      "[main 2a3c1ac] Add files from Google Drive\n",
      " 2 files changed, 2 insertions(+), 1 deletion(-)\n",
      " create mode 160000 earth_quake_visulizations\n",
      "remote: Permission to waqar351/earth_quake_visulizations.git denied to Waqar351.\n",
      "fatal: unable to access 'https://github.com/waqar351/earth_quake_visulizations.git/': The requested URL returned error: 403\n"
     ]
    }
   ],
   "source": [
    "!git add .\n",
    "!git commit -m \"Add files from Google Drive\"\n",
    "!git push https://{token}@github.com/{username}/{repo}.git"
   ]
  },
  {
   "cell_type": "code",
   "execution_count": null,
   "metadata": {
    "id": "EOouXs1Zzz8V"
   },
   "outputs": [],
   "source": [
    "!rm -rf earth_quake_visulizations/.git\n"
   ]
  },
  {
   "cell_type": "code",
   "execution_count": null,
   "metadata": {
    "colab": {
     "base_uri": "https://localhost:8080/"
    },
    "executionInfo": {
     "elapsed": 511,
     "status": "ok",
     "timestamp": 1746824175737,
     "user": {
      "displayName": "Waqar Hassan",
      "userId": "03281038857401447037"
     },
     "user_tz": 180
    },
    "id": "MjInZSGu0qwe",
    "outputId": "e3f573ec-ad91-4f53-e7d5-29be03947d8a"
   },
   "outputs": [
    {
     "name": "stdout",
     "output_type": "stream",
     "text": [
      "On branch main\n",
      "nothing to commit, working tree clean\n"
     ]
    }
   ],
   "source": [
    "!git add earth_quake_visulizations\n",
    "!git commit -m \"Add earthquake visualization project\"\n"
   ]
  },
  {
   "cell_type": "code",
   "execution_count": null,
   "metadata": {
    "colab": {
     "base_uri": "https://localhost:8080/"
    },
    "executionInfo": {
     "elapsed": 400,
     "status": "ok",
     "timestamp": 1746824248462,
     "user": {
      "displayName": "Waqar Hassan",
      "userId": "03281038857401447037"
     },
     "user_tz": 180
    },
    "id": "xR-7LMJX1gXf",
    "outputId": "cc49251b-bffb-4f3e-e7ca-f1bc06c89d9c"
   },
   "outputs": [
    {
     "name": "stdout",
     "output_type": "stream",
     "text": [
      "remote: Permission to waqar351/earth_quake_visulizations.git denied to Waqar351.\n",
      "fatal: unable to access 'https://github.com/waqar351/earth_quake_visulizations.git/': The requested URL returned error: 403\n"
     ]
    }
   ],
   "source": [
    "!git push https://{token}@github.com/{username}/{repo}.git"
   ]
  },
  {
   "cell_type": "code",
   "execution_count": null,
   "metadata": {
    "colab": {
     "base_uri": "https://localhost:8080/"
    },
    "executionInfo": {
     "elapsed": 1014,
     "status": "ok",
     "timestamp": 1746825168989,
     "user": {
      "displayName": "Waqar Hassan",
      "userId": "03281038857401447037"
     },
     "user_tz": 180
    },
    "id": "REdFeEu_1Jmf",
    "outputId": "fbcff75f-346c-4fe0-8a1f-f571147c5b7a"
   },
   "outputs": [
    {
     "name": "stdout",
     "output_type": "stream",
     "text": [
      "Cloning into 'earth_quake_visulizations'...\n",
      "remote: Enumerating objects: 3, done.\u001b[K\n",
      "remote: Counting objects: 100% (3/3), done.\u001b[K\n",
      "remote: Total 3 (delta 0), reused 0 (delta 0), pack-reused 0 (from 0)\u001b[K\n",
      "Receiving objects: 100% (3/3), done.\n"
     ]
    }
   ],
   "source": [
    "!rm -rf earth_quake_visulizations\n",
    "!git clone https://github.com/waqar351/earth_quake_visulizations.git\n"
   ]
  },
  {
   "cell_type": "code",
   "execution_count": null,
   "metadata": {
    "colab": {
     "base_uri": "https://localhost:8080/"
    },
    "executionInfo": {
     "elapsed": 616,
     "status": "ok",
     "timestamp": 1746825199913,
     "user": {
      "displayName": "Waqar Hassan",
      "userId": "03281038857401447037"
     },
     "user_tz": 180
    },
    "id": "TGvjsRvS5HAg",
    "outputId": "cd351e13-6676-49a4-cb5b-657903bb5f1f"
   },
   "outputs": [
    {
     "name": "stdout",
     "output_type": "stream",
     "text": [
      "/content/drive/MyDrive/Data analysis/earth_quake_visulizations\n",
      "From https://github.com/waqar351/earth_quake_visulizations\n",
      " * branch            main       -> FETCH_HEAD\n",
      "Already up to date.\n"
     ]
    }
   ],
   "source": [
    "%cd earth_quake_visulizations\n",
    "!git pull origin main\n"
   ]
  },
  {
   "cell_type": "code",
   "execution_count": null,
   "metadata": {
    "colab": {
     "base_uri": "https://localhost:8080/"
    },
    "executionInfo": {
     "elapsed": 619,
     "status": "ok",
     "timestamp": 1746825218155,
     "user": {
      "displayName": "Waqar Hassan",
      "userId": "03281038857401447037"
     },
     "user_tz": 180
    },
    "id": "M0QwaPAX5T3X",
    "outputId": "eca6383f-7248-4608-a6fa-e89b1498c383"
   },
   "outputs": [
    {
     "name": "stdout",
     "output_type": "stream",
     "text": [
      "Everything up-to-date\n"
     ]
    }
   ],
   "source": [
    "!git push https://{token}@github.com/{username}/{repo}.git"
   ]
  },
  {
   "cell_type": "code",
   "execution_count": null,
   "metadata": {
    "colab": {
     "base_uri": "https://localhost:8080/"
    },
    "executionInfo": {
     "elapsed": 314,
     "status": "ok",
     "timestamp": 1746825340731,
     "user": {
      "displayName": "Waqar Hassan",
      "userId": "03281038857401447037"
     },
     "user_tz": 180
    },
    "id": "uQdaEcXl5YUL",
    "outputId": "1c386439-d3b3-4dd8-a427-56d433919887"
   },
   "outputs": [
    {
     "name": "stdout",
     "output_type": "stream",
     "text": [
      "fatal: could not read Password for 'https://token@github.com': No such device or address\n"
     ]
    }
   ],
   "source": [
    "!git push https://token@github.com/waqar351/earth_quake_visualizations.git\n"
   ]
  },
  {
   "cell_type": "code",
   "execution_count": null,
   "metadata": {
    "colab": {
     "base_uri": "https://localhost:8080/"
    },
    "executionInfo": {
     "elapsed": 112,
     "status": "ok",
     "timestamp": 1746825389070,
     "user": {
      "displayName": "Waqar Hassan",
      "userId": "03281038857401447037"
     },
     "user_tz": 180
    },
    "id": "ZAa_T30E52UQ",
    "outputId": "6ebd1214-1d7c-43d6-f3fd-e7c384a3d1d3"
   },
   "outputs": [
    {
     "name": "stdout",
     "output_type": "stream",
     "text": [
      "origin\thttps://github.com/waqar351/earth_quake_visulizations.git (fetch)\n",
      "origin\thttps://github.com/waqar351/earth_quake_visulizations.git (push)\n"
     ]
    }
   ],
   "source": [
    "!git remote -v\n"
   ]
  },
  {
   "cell_type": "code",
   "execution_count": null,
   "metadata": {
    "colab": {
     "base_uri": "https://localhost:8080/"
    },
    "executionInfo": {
     "elapsed": 424,
     "status": "ok",
     "timestamp": 1746825492487,
     "user": {
      "displayName": "Waqar Hassan",
      "userId": "03281038857401447037"
     },
     "user_tz": 180
    },
    "id": "GCFrg4Uw6CKv",
    "outputId": "f64fb676-e395-4bb8-d243-96d00c4083ac"
   },
   "outputs": [
    {
     "name": "stdout",
     "output_type": "stream",
     "text": [
      "fatal: could not read Username for 'https://github.com': No such device or address\n"
     ]
    }
   ],
   "source": [
    "!git push https://github.com/waqar351/{repo}.git\n"
   ]
  },
  {
   "cell_type": "code",
   "execution_count": null,
   "metadata": {
    "id": "eu9P8TB46SiI"
   },
   "outputs": [],
   "source": []
  }
 ],
 "metadata": {
  "colab": {
   "authorship_tag": "ABX9TyMmHJz1zjngCH1A4ekexAsy",
   "mount_file_id": "1scBc8q4RHSnSe6DXshWExo5-NRDhz4fF",
   "provenance": []
  },
  "kernelspec": {
   "display_name": "Python (Elections)",
   "language": "python",
   "name": "elections"
  },
  "language_info": {
   "codemirror_mode": {
    "name": "ipython",
    "version": 3
   },
   "file_extension": ".py",
   "mimetype": "text/x-python",
   "name": "python",
   "nbconvert_exporter": "python",
   "pygments_lexer": "ipython3",
   "version": "3.12.2"
  }
 },
 "nbformat": 4,
 "nbformat_minor": 0
}
