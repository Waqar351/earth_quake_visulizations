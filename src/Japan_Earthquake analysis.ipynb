{
 "cells": [
  {
   "cell_type": "code",
   "execution_count": 1,
   "metadata": {
    "executionInfo": {
     "elapsed": 878,
     "status": "ok",
     "timestamp": 1749067826222,
     "user": {
      "displayName": "Waqar Hassan",
      "userId": "03281038857401447037"
     },
     "user_tz": 180
    },
    "id": "-zKJxAphl0KE"
   },
   "outputs": [],
   "source": [
    "import urllib.parse\n",
    "\n",
    "import geopandas as gpd\n",
    "import pandas as pd"
   ]
  },
  {
   "cell_type": "code",
   "execution_count": 16,
   "metadata": {
    "executionInfo": {
     "elapsed": 9,
     "status": "ok",
     "timestamp": 1749068424839,
     "user": {
      "displayName": "Waqar Hassan",
      "userId": "03281038857401447037"
     },
     "user_tz": 180
    },
    "id": "pP68lGzKl8F3"
   },
   "outputs": [],
   "source": [
    "output_path = \"Japan_earthquake_analysis\""
   ]
  },
  {
   "cell_type": "code",
   "execution_count": 3,
   "metadata": {
    "executionInfo": {
     "elapsed": 3,
     "status": "ok",
     "timestamp": 1749068590980,
     "user": {
      "displayName": "Waqar Hassan",
      "userId": "03281038857401447037"
     },
     "user_tz": 180
    },
    "id": "cy3FgGkUmJMG"
   },
   "outputs": [],
   "source": [
    "CATALOG_URL = \"https://earthquake.usgs.gov/fdsnws/event/1/query.geojson\"\n",
    "\n",
    "maxlatitude= 46.0\n",
    "minlatitude=30.0\n",
    "maxlongitude = 146.0\n",
    "minlongitude = 129.0\n",
    "minmagnitude = 4.5\n",
    "\n",
    "params_japan = {\n",
    "    \"format\": \"geojson\",\n",
    "    \"starttime\": \"2024-01-01\",\n",
    "    \"endtime\": \"2024-12-31\",\n",
    "    \"minlatitude\": 30.0,\n",
    "    \"maxlatitude\": 46.0,\n",
    "    \"minlongitude\": 129.0,\n",
    "    \"maxlongitude\": 146.0,\n",
    "    \"minmagnitude\": 4.5,\n",
    "}\n",
    "\n",
    "params = {\n",
    "    \"starttime\": \"2024-01-01\",\n",
    "    \"endtime\": \"2024-12-31\",\n",
    "    \"maxlatitude\": 46.0,\n",
    "    \"minlatitude\": 30.0,\n",
    "    \"maxlongitude\": 146.0,\n",
    "    \"minlongitude\": 129.0,\n",
    "    \"minmagnitude\": 4.5,\n",
    "    \"eventtype\": \"earthquake\",\n",
    "    \"orderby\": \"time\",\n",
    "}\n",
    "columns = [\"mag\", \"time\", \"geometry\"]"
   ]
  },
  {
   "cell_type": "code",
   "execution_count": 4,
   "metadata": {
    "executionInfo": {
     "elapsed": 943,
     "status": "ok",
     "timestamp": 1749068593411,
     "user": {
      "displayName": "Waqar Hassan",
      "userId": "03281038857401447037"
     },
     "user_tz": 180
    },
    "id": "ZdymAB_5mJIj"
   },
   "outputs": [],
   "source": [
    "url = f\"{CATALOG_URL}?{urllib.parse.urlencode(params)}\"\n",
    "quakes = gpd.read_file(url, columns=columns)"
   ]
  },
  {
   "cell_type": "code",
   "execution_count": 5,
   "metadata": {
    "executionInfo": {
     "elapsed": 293,
     "status": "ok",
     "timestamp": 1749068593706,
     "user": {
      "displayName": "Waqar Hassan",
      "userId": "03281038857401447037"
     },
     "user_tz": 180
    },
    "id": "rg0RwW3cmJEl"
   },
   "outputs": [],
   "source": [
    "# get the national boundary of Japan\n",
    "boundary_url = \"https://media.githubusercontent.com/media/wmgeolab/geoBoundaries/refs/heads/main/releaseData/gbOpen/JPN/ADM0/geoBoundaries-JPN-ADM0.geojson\"\n",
    "japan = gpd.read_file(boundary_url)"
   ]
  },
  {
   "cell_type": "code",
   "execution_count": 6,
   "metadata": {
    "executionInfo": {
     "elapsed": 55,
     "status": "ok",
     "timestamp": 1749068593769,
     "user": {
      "displayName": "Waqar Hassan",
      "userId": "03281038857401447037"
     },
     "user_tz": 180
    },
    "id": "k6KSSDUbmI8o"
   },
   "outputs": [],
   "source": [
    "# ensure both dataframes are in the same CRS\n",
    "quakes = quakes.to_crs(japan.crs)\n",
    "\n",
    "# filter earthquakes to those within Japan's boundaries\n",
    "quakes = quakes[quakes.within(japan.iloc[0]['geometry'])]"
   ]
  },
  {
   "cell_type": "code",
   "execution_count": 7,
   "metadata": {
    "colab": {
     "base_uri": "https://localhost:8080/",
     "height": 423
    },
    "executionInfo": {
     "elapsed": 16,
     "status": "ok",
     "timestamp": 1749068594675,
     "user": {
      "displayName": "Waqar Hassan",
      "userId": "03281038857401447037"
     },
     "user_tz": 180
    },
    "id": "nljSKIV0l1iW",
    "outputId": "c0f54721-2776-47d2-a2a8-b41629f23f13"
   },
   "outputs": [
    {
     "data": {
      "text/html": [
       "<div>\n",
       "<style scoped>\n",
       "    .dataframe tbody tr th:only-of-type {\n",
       "        vertical-align: middle;\n",
       "    }\n",
       "\n",
       "    .dataframe tbody tr th {\n",
       "        vertical-align: top;\n",
       "    }\n",
       "\n",
       "    .dataframe thead th {\n",
       "        text-align: right;\n",
       "    }\n",
       "</style>\n",
       "<table border=\"1\" class=\"dataframe\">\n",
       "  <thead>\n",
       "    <tr style=\"text-align: right;\">\n",
       "      <th></th>\n",
       "      <th>mag</th>\n",
       "      <th>time</th>\n",
       "      <th>geometry</th>\n",
       "    </tr>\n",
       "  </thead>\n",
       "  <tbody>\n",
       "    <tr>\n",
       "      <th>7</th>\n",
       "      <td>4.6</td>\n",
       "      <td>1734854151387</td>\n",
       "      <td>POINT Z (130.6312 31.845 170.684)</td>\n",
       "    </tr>\n",
       "    <tr>\n",
       "      <th>9</th>\n",
       "      <td>4.5</td>\n",
       "      <td>1734441078418</td>\n",
       "      <td>POINT Z (139.9292 36.2615 76.086)</td>\n",
       "    </tr>\n",
       "    <tr>\n",
       "      <th>17</th>\n",
       "      <td>4.5</td>\n",
       "      <td>1733611184842</td>\n",
       "      <td>POINT Z (140.108 35.5123 74.306)</td>\n",
       "    </tr>\n",
       "    <tr>\n",
       "      <th>19</th>\n",
       "      <td>4.8</td>\n",
       "      <td>1733462760960</td>\n",
       "      <td>POINT Z (131.3993 31.8623 63.021)</td>\n",
       "    </tr>\n",
       "    <tr>\n",
       "      <th>41</th>\n",
       "      <td>4.7</td>\n",
       "      <td>1731693531265</td>\n",
       "      <td>POINT Z (140.7467 35.8011 50.526)</td>\n",
       "    </tr>\n",
       "    <tr>\n",
       "      <th>...</th>\n",
       "      <td>...</td>\n",
       "      <td>...</td>\n",
       "      <td>...</td>\n",
       "    </tr>\n",
       "    <tr>\n",
       "      <th>312</th>\n",
       "      <td>4.6</td>\n",
       "      <td>1704094095144</td>\n",
       "      <td>POINT Z (136.8046 37.3496 10)</td>\n",
       "    </tr>\n",
       "    <tr>\n",
       "      <th>313</th>\n",
       "      <td>4.6</td>\n",
       "      <td>1704094048747</td>\n",
       "      <td>POINT Z (137.2254 37.3802 10)</td>\n",
       "    </tr>\n",
       "    <tr>\n",
       "      <th>314</th>\n",
       "      <td>6.2</td>\n",
       "      <td>1704093521584</td>\n",
       "      <td>POINT Z (136.8272 37.1895 10)</td>\n",
       "    </tr>\n",
       "    <tr>\n",
       "      <th>315</th>\n",
       "      <td>7.5</td>\n",
       "      <td>1704093009476</td>\n",
       "      <td>POINT Z (137.271 37.4874 10)</td>\n",
       "    </tr>\n",
       "    <tr>\n",
       "      <th>316</th>\n",
       "      <td>5.8</td>\n",
       "      <td>1704092765477</td>\n",
       "      <td>POINT Z (137.2491 37.4933 10)</td>\n",
       "    </tr>\n",
       "  </tbody>\n",
       "</table>\n",
       "<p>78 rows × 3 columns</p>\n",
       "</div>"
      ],
      "text/plain": [
       "     mag           time                           geometry\n",
       "7    4.6  1734854151387  POINT Z (130.6312 31.845 170.684)\n",
       "9    4.5  1734441078418  POINT Z (139.9292 36.2615 76.086)\n",
       "17   4.5  1733611184842   POINT Z (140.108 35.5123 74.306)\n",
       "19   4.8  1733462760960  POINT Z (131.3993 31.8623 63.021)\n",
       "41   4.7  1731693531265  POINT Z (140.7467 35.8011 50.526)\n",
       "..   ...            ...                                ...\n",
       "312  4.6  1704094095144      POINT Z (136.8046 37.3496 10)\n",
       "313  4.6  1704094048747      POINT Z (137.2254 37.3802 10)\n",
       "314  6.2  1704093521584      POINT Z (136.8272 37.1895 10)\n",
       "315  7.5  1704093009476       POINT Z (137.271 37.4874 10)\n",
       "316  5.8  1704092765477      POINT Z (137.2491 37.4933 10)\n",
       "\n",
       "[78 rows x 3 columns]"
      ]
     },
     "execution_count": 7,
     "metadata": {},
     "output_type": "execute_result"
    }
   ],
   "source": [
    "quakes"
   ]
  },
  {
   "cell_type": "code",
   "execution_count": 8,
   "metadata": {
    "executionInfo": {
     "elapsed": 38,
     "status": "ok",
     "timestamp": 1749068595556,
     "user": {
      "displayName": "Waqar Hassan",
      "userId": "03281038857401447037"
     },
     "user_tz": 180
    },
    "id": "nDEIPHGDniPq"
   },
   "outputs": [],
   "source": [
    "quakes[\"time\"] = pd.to_datetime(quakes[\"time\"], unit=\"ms\").dt.tz_localize(\n",
    "    tz=\"UTC\"  # First localize to UTC if not already timezone-aware\n",
    ").dt.tz_convert(\"Asia/Tokyo\")"
   ]
  },
  {
   "cell_type": "code",
   "execution_count": 9,
   "metadata": {
    "executionInfo": {
     "elapsed": 9,
     "status": "ok",
     "timestamp": 1749068596216,
     "user": {
      "displayName": "Waqar Hassan",
      "userId": "03281038857401447037"
     },
     "user_tz": 180
    },
    "id": "Tc1bMx31n8vY"
   },
   "outputs": [],
   "source": [
    "# for working with matplotlib, add separate latitude/longitude columns\n",
    "quakes = quakes.join(\n",
    "    quakes.get_coordinates().rename(columns=dict(y=\"latitude\", x=\"longitude\"))\n",
    ")"
   ]
  },
  {
   "cell_type": "code",
   "execution_count": 10,
   "metadata": {
    "colab": {
     "base_uri": "https://localhost:8080/",
     "height": 423
    },
    "executionInfo": {
     "elapsed": 17,
     "status": "ok",
     "timestamp": 1749068596645,
     "user": {
      "displayName": "Waqar Hassan",
      "userId": "03281038857401447037"
     },
     "user_tz": 180
    },
    "id": "E6xVtz1-oQ5m",
    "outputId": "493cac27-67bd-4340-dbe5-e498b45c567a"
   },
   "outputs": [
    {
     "data": {
      "text/html": [
       "<div>\n",
       "<style scoped>\n",
       "    .dataframe tbody tr th:only-of-type {\n",
       "        vertical-align: middle;\n",
       "    }\n",
       "\n",
       "    .dataframe tbody tr th {\n",
       "        vertical-align: top;\n",
       "    }\n",
       "\n",
       "    .dataframe thead th {\n",
       "        text-align: right;\n",
       "    }\n",
       "</style>\n",
       "<table border=\"1\" class=\"dataframe\">\n",
       "  <thead>\n",
       "    <tr style=\"text-align: right;\">\n",
       "      <th></th>\n",
       "      <th>mag</th>\n",
       "      <th>time</th>\n",
       "      <th>geometry</th>\n",
       "      <th>longitude</th>\n",
       "      <th>latitude</th>\n",
       "    </tr>\n",
       "  </thead>\n",
       "  <tbody>\n",
       "    <tr>\n",
       "      <th>7</th>\n",
       "      <td>4.6</td>\n",
       "      <td>2024-12-22 16:55:51.387000+09:00</td>\n",
       "      <td>POINT Z (130.6312 31.845 170.684)</td>\n",
       "      <td>130.6312</td>\n",
       "      <td>31.8450</td>\n",
       "    </tr>\n",
       "    <tr>\n",
       "      <th>9</th>\n",
       "      <td>4.5</td>\n",
       "      <td>2024-12-17 22:11:18.418000+09:00</td>\n",
       "      <td>POINT Z (139.9292 36.2615 76.086)</td>\n",
       "      <td>139.9292</td>\n",
       "      <td>36.2615</td>\n",
       "    </tr>\n",
       "    <tr>\n",
       "      <th>17</th>\n",
       "      <td>4.5</td>\n",
       "      <td>2024-12-08 07:39:44.842000+09:00</td>\n",
       "      <td>POINT Z (140.108 35.5123 74.306)</td>\n",
       "      <td>140.1080</td>\n",
       "      <td>35.5123</td>\n",
       "    </tr>\n",
       "    <tr>\n",
       "      <th>19</th>\n",
       "      <td>4.8</td>\n",
       "      <td>2024-12-06 14:26:00.960000+09:00</td>\n",
       "      <td>POINT Z (131.3993 31.8623 63.021)</td>\n",
       "      <td>131.3993</td>\n",
       "      <td>31.8623</td>\n",
       "    </tr>\n",
       "    <tr>\n",
       "      <th>41</th>\n",
       "      <td>4.7</td>\n",
       "      <td>2024-11-16 02:58:51.265000+09:00</td>\n",
       "      <td>POINT Z (140.7467 35.8011 50.526)</td>\n",
       "      <td>140.7467</td>\n",
       "      <td>35.8011</td>\n",
       "    </tr>\n",
       "    <tr>\n",
       "      <th>...</th>\n",
       "      <td>...</td>\n",
       "      <td>...</td>\n",
       "      <td>...</td>\n",
       "      <td>...</td>\n",
       "      <td>...</td>\n",
       "    </tr>\n",
       "    <tr>\n",
       "      <th>312</th>\n",
       "      <td>4.6</td>\n",
       "      <td>2024-01-01 16:28:15.144000+09:00</td>\n",
       "      <td>POINT Z (136.8046 37.3496 10)</td>\n",
       "      <td>136.8046</td>\n",
       "      <td>37.3496</td>\n",
       "    </tr>\n",
       "    <tr>\n",
       "      <th>313</th>\n",
       "      <td>4.6</td>\n",
       "      <td>2024-01-01 16:27:28.747000+09:00</td>\n",
       "      <td>POINT Z (137.2254 37.3802 10)</td>\n",
       "      <td>137.2254</td>\n",
       "      <td>37.3802</td>\n",
       "    </tr>\n",
       "    <tr>\n",
       "      <th>314</th>\n",
       "      <td>6.2</td>\n",
       "      <td>2024-01-01 16:18:41.584000+09:00</td>\n",
       "      <td>POINT Z (136.8272 37.1895 10)</td>\n",
       "      <td>136.8272</td>\n",
       "      <td>37.1895</td>\n",
       "    </tr>\n",
       "    <tr>\n",
       "      <th>315</th>\n",
       "      <td>7.5</td>\n",
       "      <td>2024-01-01 16:10:09.476000+09:00</td>\n",
       "      <td>POINT Z (137.271 37.4874 10)</td>\n",
       "      <td>137.2710</td>\n",
       "      <td>37.4874</td>\n",
       "    </tr>\n",
       "    <tr>\n",
       "      <th>316</th>\n",
       "      <td>5.8</td>\n",
       "      <td>2024-01-01 16:06:05.477000+09:00</td>\n",
       "      <td>POINT Z (137.2491 37.4933 10)</td>\n",
       "      <td>137.2491</td>\n",
       "      <td>37.4933</td>\n",
       "    </tr>\n",
       "  </tbody>\n",
       "</table>\n",
       "<p>78 rows × 5 columns</p>\n",
       "</div>"
      ],
      "text/plain": [
       "     mag                             time                           geometry  \\\n",
       "7    4.6 2024-12-22 16:55:51.387000+09:00  POINT Z (130.6312 31.845 170.684)   \n",
       "9    4.5 2024-12-17 22:11:18.418000+09:00  POINT Z (139.9292 36.2615 76.086)   \n",
       "17   4.5 2024-12-08 07:39:44.842000+09:00   POINT Z (140.108 35.5123 74.306)   \n",
       "19   4.8 2024-12-06 14:26:00.960000+09:00  POINT Z (131.3993 31.8623 63.021)   \n",
       "41   4.7 2024-11-16 02:58:51.265000+09:00  POINT Z (140.7467 35.8011 50.526)   \n",
       "..   ...                              ...                                ...   \n",
       "312  4.6 2024-01-01 16:28:15.144000+09:00      POINT Z (136.8046 37.3496 10)   \n",
       "313  4.6 2024-01-01 16:27:28.747000+09:00      POINT Z (137.2254 37.3802 10)   \n",
       "314  6.2 2024-01-01 16:18:41.584000+09:00      POINT Z (136.8272 37.1895 10)   \n",
       "315  7.5 2024-01-01 16:10:09.476000+09:00       POINT Z (137.271 37.4874 10)   \n",
       "316  5.8 2024-01-01 16:06:05.477000+09:00      POINT Z (137.2491 37.4933 10)   \n",
       "\n",
       "     longitude  latitude  \n",
       "7     130.6312   31.8450  \n",
       "9     139.9292   36.2615  \n",
       "17    140.1080   35.5123  \n",
       "19    131.3993   31.8623  \n",
       "41    140.7467   35.8011  \n",
       "..         ...       ...  \n",
       "312   136.8046   37.3496  \n",
       "313   137.2254   37.3802  \n",
       "314   136.8272   37.1895  \n",
       "315   137.2710   37.4874  \n",
       "316   137.2491   37.4933  \n",
       "\n",
       "[78 rows x 5 columns]"
      ]
     },
     "execution_count": 10,
     "metadata": {},
     "output_type": "execute_result"
    }
   ],
   "source": [
    "quakes"
   ]
  },
  {
   "cell_type": "code",
   "execution_count": 13,
   "metadata": {
    "colab": {
     "base_uri": "https://localhost:8080/",
     "height": 368
    },
    "executionInfo": {
     "elapsed": 1111,
     "status": "ok",
     "timestamp": 1749068598621,
     "user": {
      "displayName": "Waqar Hassan",
      "userId": "03281038857401447037"
     },
     "user_tz": 180
    },
    "id": "3pnnvjl7oRdI",
    "outputId": "7f05d079-ec64-41f1-9e5e-4bf23b2b97fa"
   },
   "outputs": [
    {
     "data": {
      "image/png": "[encoded data removed]",
      "text/plain": [
       "<Figure size 600x400 with 1 Axes>"
      ]
     },
     "metadata": {},
     "output_type": "display_data"
    }
   ],
   "source": [
    "import matplotlib.pyplot as plt\n",
    "\n",
    "fig, ax = plt.subplots(figsize=(6,4))\n",
    "japan.plot(color=\"white\", edgecolor=\"black\", ax=ax)\n",
    "quakes.plot(ax=ax, markersize='mag', color=\"red\")\n",
    "plt.show()"
   ]
  },
  {
   "cell_type": "code",
   "execution_count": 14,
   "metadata": {
    "executionInfo": {
     "elapsed": 13,
     "status": "ok",
     "timestamp": 1749068599951,
     "user": {
      "displayName": "Waqar Hassan",
      "userId": "03281038857401447037"
     },
     "user_tz": 180
    },
    "id": "2weRdWaAo4nW"
   },
   "outputs": [],
   "source": [
    "base_size = 10\n",
    "base_magnitude = 5\n",
    "quakes[\"marker_size\"] = base_size * (10 ** (quakes[\"mag\"] - base_magnitude))"
   ]
  },
  {
   "cell_type": "code",
   "execution_count": null,
   "metadata": {
    "colab": {
     "base_uri": "https://localhost:8080/"
    },
    "executionInfo": {
     "elapsed": 2120,
     "status": "ok",
     "timestamp": 1749068603267,
     "user": {
      "displayName": "Waqar Hassan",
      "userId": "03281038857401447037"
     },
     "user_tz": 180
    },
    "id": "d1E7aVxZo5Ul",
    "outputId": "b453fa91-2441-40fd-f612-cb150cf169ca"
   },
   "outputs": [
    {
     "name": "stdout",
     "output_type": "stream",
     "text": [
      "Requirement already satisfied: contextily in /usr/local/lib/python3.11/dist-packages (1.6.2)\n",
      "Requirement already satisfied: geopy in /usr/local/lib/python3.11/dist-packages (from contextily) (2.4.1)\n",
      "Requirement already satisfied: matplotlib in /usr/local/lib/python3.11/dist-packages (from contextily) (3.10.0)\n",
      "Requirement already satisfied: mercantile in /usr/local/lib/python3.11/dist-packages (from contextily) (1.2.1)\n",
      "Requirement already satisfied: pillow in /usr/local/lib/python3.11/dist-packages (from contextily) (11.2.1)\n",
      "Requirement already satisfied: rasterio in /usr/local/lib/python3.11/dist-packages (from contextily) (1.4.3)\n",
      "Requirement already satisfied: requests in /usr/local/lib/python3.11/dist-packages (from contextily) (2.32.3)\n",
      "Requirement already satisfied: joblib in /usr/local/lib/python3.11/dist-packages (from contextily) (1.5.1)\n",
      "Requirement already satisfied: xyzservices in /usr/local/lib/python3.11/dist-packages (from contextily) (2025.4.0)\n",
      "Requirement already satisfied: geographiclib<3,>=1.52 in /usr/local/lib/python3.11/dist-packages (from geopy->contextily) (2.0)\n",
      "Requirement already satisfied: contourpy>=1.0.1 in /usr/local/lib/python3.11/dist-packages (from matplotlib->contextily) (1.3.2)\n",
      "Requirement already satisfied: cycler>=0.10 in /usr/local/lib/python3.11/dist-packages (from matplotlib->contextily) (0.12.1)\n",
      "Requirement already satisfied: fonttools>=4.22.0 in /usr/local/lib/python3.11/dist-packages (from matplotlib->contextily) (4.58.1)\n",
      "Requirement already satisfied: kiwisolver>=1.3.1 in /usr/local/lib/python3.11/dist-packages (from matplotlib->contextily) (1.4.8)\n",
      "Requirement already satisfied: numpy>=1.23 in /usr/local/lib/python3.11/dist-packages (from matplotlib->contextily) (2.0.2)\n",
      "Requirement already satisfied: packaging>=20.0 in /usr/local/lib/python3.11/dist-packages (from matplotlib->contextily) (24.2)\n",
      "Requirement already satisfied: pyparsing>=2.3.1 in /usr/local/lib/python3.11/dist-packages (from matplotlib->contextily) (3.2.3)\n",
      "Requirement already satisfied: python-dateutil>=2.7 in /usr/local/lib/python3.11/dist-packages (from matplotlib->contextily) (2.9.0.post0)\n",
      "Requirement already satisfied: click>=3.0 in /usr/local/lib/python3.11/dist-packages (from mercantile->contextily) (8.2.1)\n",
      "Requirement already satisfied: affine in /usr/local/lib/python3.11/dist-packages (from rasterio->contextily) (2.4.0)\n",
      "Requirement already satisfied: attrs in /usr/local/lib/python3.11/dist-packages (from rasterio->contextily) (25.3.0)\n",
      "Requirement already satisfied: certifi in /usr/local/lib/python3.11/dist-packages (from rasterio->contextily) (2025.4.26)\n",
      "Requirement already satisfied: cligj>=0.5 in /usr/local/lib/python3.11/dist-packages (from rasterio->contextily) (0.7.2)\n",
      "Requirement already satisfied: click-plugins in /usr/local/lib/python3.11/dist-packages (from rasterio->contextily) (1.1.1)\n",
      "Requirement already satisfied: charset-normalizer<4,>=2 in /usr/local/lib/python3.11/dist-packages (from requests->contextily) (3.4.2)\n",
      "Requirement already satisfied: idna<4,>=2.5 in /usr/local/lib/python3.11/dist-packages (from requests->contextily) (3.10)\n",
      "Requirement already satisfied: urllib3<3,>=1.21.1 in /usr/local/lib/python3.11/dist-packages (from requests->contextily) (2.4.0)\n",
      "Requirement already satisfied: six>=1.5 in /usr/local/lib/python3.11/dist-packages (from python-dateutil>=2.7->matplotlib->contextily) (1.17.0)\n"
     ]
    }
   ],
   "source": [
    "# pip install contextily"
   ]
  },
  {
   "cell_type": "code",
   "execution_count": 17,
   "metadata": {
    "executionInfo": {
     "elapsed": 106465,
     "status": "ok",
     "timestamp": 1749069263868,
     "user": {
      "displayName": "Waqar Hassan",
      "userId": "03281038857401447037"
     },
     "user_tz": 180
    },
    "id": "1PKwzvN5o7pI"
   },
   "outputs": [],
   "source": [
    "import contextily as cx\n",
    "import matplotlib.animation as animation\n",
    "import matplotlib.pyplot as plt\n",
    "import numpy as np\n",
    "\n",
    "fig, ax = plt.subplots(layout=\"constrained\", figsize=(6,5))\n",
    "ax.set(xlim=[minlongitude, maxlongitude], ylim=[minlatitude, maxlatitude])\n",
    "ax.set_title(\"The January 2024 Nepal earthquake and its aftershocks\")\n",
    "# add basemap\n",
    "cx.add_basemap(ax, crs=quakes.crs, zoom=8, source=\"CartoDB.Voyager\")\n",
    "\n",
    "# the first point in the animation\n",
    "points_opts = dict(alpha=0.5, linewidth=0, color=\"red\")\n",
    "points = ax.scatter(\n",
    "    quakes[\"longitude\"].iloc[0],\n",
    "    quakes[\"latitude\"].iloc[0],\n",
    "    s=quakes[\"marker_size\"].iloc[0],\n",
    "    **points_opts\n",
    ")\n",
    "\n",
    "# the first label\n",
    "# labels show the time of the earthquake\n",
    "label_opts = dict(ha=\"center\", va=\"center\", fontsize=15, color=\"black\", transform=ax.transAxes)\n",
    "label = ax.text(\n",
    "    0.25,\n",
    "    0.95,\n",
    "    quakes[\"time\"].iloc[0].strftime(\"%Y-%m-%d %H:%M\"),\n",
    "    **label_opts\n",
    ")\n",
    "\n",
    "# loop through each point in the data and draw a marker and legend for that data point\n",
    "def update(frame):\n",
    "    # for each frame, update the data stored on each artist.\n",
    "    x = quakes[\"longitude\"].iloc[:frame]\n",
    "    y = quakes[\"latitude\"].iloc[:frame]\n",
    "\n",
    "    # update the scatter plot:\n",
    "    data = np.stack([x, y]).T\n",
    "    points.set_offsets(data)\n",
    "\n",
    "    # set the size of the earthquakes\n",
    "    points.set_sizes(quakes[\"marker_size\"].iloc[:frame])\n",
    "\n",
    "    # update the label\n",
    "    label.set_text(quakes[\"time\"].iloc[frame - 1].strftime(\"%Y-%m-%d %H:%M\"))\n",
    "\n",
    "    return (points,)\n",
    "\n",
    "# animate by looping through all datapoints.\n",
    "ani = animation.FuncAnimation(\n",
    "    fig=fig, func=update, frames=len(quakes), interval=600\n",
    ")\n",
    "\n",
    "# To save the animation using Pillow as a gif\n",
    "writer = animation.PillowWriter(fps=10, bitrate=1800)\n",
    "ani.save(output_path + \"/japan_animated-scatter-v1.gif\", writer=writer)\n",
    "\n",
    "plt.show\n",
    "plt.ioff\n",
    "plt.close()"
   ]
  },
  {
   "cell_type": "code",
   "execution_count": 18,
   "metadata": {
    "colab": {
     "base_uri": "https://localhost:8080/",
     "height": 452
    },
    "executionInfo": {
     "elapsed": 87,
     "status": "ok",
     "timestamp": 1749069263973,
     "user": {
      "displayName": "Waqar Hassan",
      "userId": "03281038857401447037"
     },
     "user_tz": 180
    },
    "id": "Z5YH_ADMpaEJ",
    "outputId": "02e722d7-0b23-46a7-a34e-d46b22067f2c"
   },
   "outputs": [
    {
     "data": {
      "text/plain": [
       "<matplotlib.legend.Legend at 0x20f80166150>"
      ]
     },
     "execution_count": 18,
     "metadata": {},
     "output_type": "execute_result"
    },
    {
     "data": {
      "image/png": "[encoded data removed]",
      "text/plain": [
       "<Figure size 640x480 with 1 Axes>"
      ]
     },
     "metadata": {},
     "output_type": "display_data"
    }
   ],
   "source": [
    "from matplotlib.lines import Line2D\n",
    "\n",
    "min_marker_size = 10\n",
    "min_magnitude = 5\n",
    "# the four magnitudes in the legend\n",
    "mags = np.array([5, 6, 7, quakes['mag'].max()])\n",
    "marker_sizes = min_marker_size * (10 ** (mags - min_magnitude))\n",
    "\n",
    "def get_legend_elements(marker_sizes):\n",
    "    # marker size for each magnitude\n",
    "    marker_opts = dict(marker=\"o\", color=\"w\", markerfacecolor=\"red\", alpha=0.5)\n",
    "    legend_elements = [\n",
    "        Line2D(\n",
    "            [0],\n",
    "            [i],\n",
    "            label=mags[i],\n",
    "            markersize=s,\n",
    "            **marker_opts\n",
    "        )\n",
    "        for i, s in enumerate(marker_sizes)\n",
    "    ]\n",
    "    return legend_elements\n",
    "\n",
    "fig, ax = plt.subplots()\n",
    "legend_opts = dict(title=\"Magnitude\", labelspacing=1, frameon=False)\n",
    "ax.legend(handles=get_legend_elements(marker_sizes), **legend_opts, loc='center')"
   ]
  },
  {
   "cell_type": "code",
   "execution_count": 19,
   "metadata": {
    "colab": {
     "base_uri": "https://localhost:8080/",
     "height": 435
    },
    "executionInfo": {
     "elapsed": 118,
     "status": "ok",
     "timestamp": 1749069264093,
     "user": {
      "displayName": "Waqar Hassan",
      "userId": "03281038857401447037"
     },
     "user_tz": 180
    },
    "id": "8mET1xj7rfLF",
    "outputId": "dfebf4df-1585-4880-eb6c-b486eaf411ec"
   },
   "outputs": [
    {
     "data": {
      "image/png": "[encoded data removed]",
      "text/plain": [
       "<Figure size 640x480 with 1 Axes>"
      ]
     },
     "metadata": {},
     "output_type": "display_data"
    }
   ],
   "source": [
    "# marker size for each magnitude\n",
    "marker_sizes = np.sqrt(min_marker_size * (10 ** (mags - min_magnitude)))\n",
    "\n",
    "fig, ax = plt.subplots()\n",
    "ax.legend(\n",
    "    handles=get_legend_elements(marker_sizes),\n",
    "    loc=\"center\",\n",
    "    title=\"Magnitude\",\n",
    "    labelspacing=1,\n",
    "    frameon=False\n",
    ")\n",
    "plt.show()"
   ]
  },
  {
   "cell_type": "code",
   "execution_count": null,
   "metadata": {
    "executionInfo": {
     "elapsed": 108558,
     "status": "ok",
     "timestamp": 1749069372649,
     "user": {
      "displayName": "Waqar Hassan",
      "userId": "03281038857401447037"
     },
     "user_tz": 180
    },
    "id": "xKQyXoZdrqs5"
   },
   "outputs": [],
   "source": [
    "fig, ax = plt.subplots(layout=\"constrained\", figsize=(7,5))\n",
    "ax.set(xlim=[minlongitude, maxlongitude], ylim=[minlatitude, maxlatitude])\n",
    "ax.set_title(\"The 2024 Japan earthquake and its aftershocks\")\n",
    "cx.add_basemap(ax, crs=quakes.crs, zoom=8, source=\"CartoDB.Voyager\")\n",
    "\n",
    "points = ax.scatter(\n",
    "    quakes[\"longitude\"].iloc[0],\n",
    "    quakes[\"latitude\"].iloc[0],\n",
    "    s=quakes[\"marker_size\"].iloc[0],\n",
    "    **points_opts\n",
    ")\n",
    "\n",
    "label = ax.text(\n",
    "    0.25,\n",
    "    0.95,\n",
    "    quakes[\"time\"].iloc[0].strftime(\"%Y-%m-%d %H:%M\"),\n",
    "    **label_opts\n",
    ")\n",
    "\n",
    "ax.legend(\n",
    "    handles=get_legend_elements(marker_sizes),\n",
    "    loc=\"center left\",\n",
    "    title=\"Magnitude\",\n",
    "    labelspacing=1,\n",
    "    frameon=False,\n",
    "    bbox_to_anchor=(1.05, 0.5), # place the legend to the right\n",
    ")\n",
    "\n",
    "ani = animation.FuncAnimation(\n",
    "    fig=fig, func=update, frames=len(quakes), interval=600\n",
    ")\n",
    "\n",
    "# To save the animation using Pillow as a gif\n",
    "writer = animation.PillowWriter(fps=15, bitrate=1800)\n",
    "ani.save(output_path+\"/japan_animated-scatter-v2.gif\", writer=writer)\n",
    "\n",
    "plt.ioff\n",
    "plt.close()"
   ]
  }
 ],
 "metadata": {
  "colab": {
   "authorship_tag": "ABX9TyMmHJz1zjngCH1A4ekexAsy",
   "mount_file_id": "1scBc8q4RHSnSe6DXshWExo5-NRDhz4fF",
   "provenance": []
  },
  "kernelspec": {
   "display_name": "Python (Elections)",
   "language": "python",
   "name": "elections"
  },
  "language_info": {
   "codemirror_mode": {
    "name": "ipython",
    "version": 3
   },
   "file_extension": ".py",
   "mimetype": "text/x-python",
   "name": "python",
   "nbconvert_exporter": "python",
   "pygments_lexer": "ipython3",
   "version": "3.12.2"
  }
 },
 "nbformat": 4,
 "nbformat_minor": 0
}
